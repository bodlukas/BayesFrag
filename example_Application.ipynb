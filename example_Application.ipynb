{
 "cells": [
  {
   "cell_type": "code",
   "execution_count": 1,
   "metadata": {},
   "outputs": [
    {
     "name": "stderr",
     "output_type": "stream",
     "text": [
      "c:\\Users\\bodlukas\\Anaconda3\\envs\\numpyro\\lib\\site-packages\\tqdm\\auto.py:21: TqdmWarning: IProgress not found. Please update jupyter and ipywidgets. See https://ipywidgets.readthedocs.io/en/stable/user_install.html\n",
      "  from .autonotebook import tqdm as notebook_tqdm\n"
     ]
    }
   ],
   "source": [
    "# Basic packages\n",
    "import pandas as pd\n",
    "import matplotlib.pyplot as plt\n",
    "import matplotlib as mpl\n",
    "import numpy as np\n",
    "import os\n",
    "\n",
    "# JAX-related\n",
    "import jax\n",
    "from jax import random\n",
    "import jax.numpy as jnp\n",
    "from jax.scipy.stats import norm\n",
    "\n",
    "# Numpyro-related\n",
    "import numpyro\n",
    "from numpyro.infer import MCMC, NUTS\n",
    "\n",
    "numpyro.enable_x64()"
   ]
  },
  {
   "cell_type": "markdown",
   "metadata": {},
   "source": [
    "Specify settings for inference\n",
    "- im_string: IM used to estimate fragility functions. For PGA use 'PGA', for SA(T=0.3s) use 'SAT0_300'.\n",
    "- GMM: GMM that was used to obtain mean, between-event and within-event residuals of logIM at the sites. See AAAAAAA\n",
    "- SCM: Spatial correlation model which is used to condition the IM distribution on station data. For now `modules.spatialcorrelation` contains implementations of EspositoIervolino2012 and BodenmannEtAl2023, but users can easily add additional models by following the documentation.\n",
    "- list_ds: Ordered list with possible damage states (including damage state 0!)\n",
    "- list_bc: List with considered building classes for which to estimate fragility functions\n",
    "\n",
    "The MCMC-specific settings are directly explained below."
   ]
  },
  {
   "cell_type": "code",
   "execution_count": 2,
   "metadata": {},
   "outputs": [],
   "source": [
    "path_data = os.getcwd() + os.sep + 'data_twodim' + os.sep\n",
    "\n",
    "args = {\n",
    "    'im_string': 'SAT0_300',\n",
    "    'GMM': 'BindiEtAl2011',\n",
    "    'SCM': 'EspositoIervolino2012', \n",
    "    'list_ds': [0, 1, 2, 3], \n",
    "    'list_bc': ['A', 'B', 'C'], \n",
    "    'mcmc_seed': 0, # Seed for MCMC\n",
    "    'mcmc': {\n",
    "        'num_samples': 750, # Number of samples per Markov chain\n",
    "        'num_warmup': 1000, # Number of warmup steps per Markov chain\n",
    "        'num_chains': 4 # Number of Markov chains    \n",
    "            }\n",
    "        }"
   ]
  },
  {
   "cell_type": "markdown",
   "metadata": {},
   "source": [
    "### Import damage survey data\n",
    "\n",
    "This fictitious damage survey data contains information from 4200 buildings. For each building the data set provides:\n",
    "- coordinates in Longitude and Latitude (decimal degrees)\n",
    "- building class \n",
    "- damage state\n",
    "- vs30: time-average shear wave velocity in the upper-most 30 meters of soil in m/s\n",
    "\n",
    "Following additional variables were computed from the rupture information and using a ground motion model (GMM)\n",
    "- epiazimuth: Azimuth with respect to epicenter in degrees (required by BodenmannEtAl2023 correlation model)\n",
    "- mu_logIM: Mean of logIM as obtained from a GMM\n",
    "- tau_logIM: Standard deviation of logIM between-event residual as obtained from a GMM\n",
    "- phi_logIM: Standard deviation of logIM within-event residual as obtained from a GMM"
   ]
  },
  {
   "cell_type": "code",
   "execution_count": 3,
   "metadata": {},
   "outputs": [
    {
     "data": {
      "text/html": [
       "<div>\n",
       "<style scoped>\n",
       "    .dataframe tbody tr th:only-of-type {\n",
       "        vertical-align: middle;\n",
       "    }\n",
       "\n",
       "    .dataframe tbody tr th {\n",
       "        vertical-align: top;\n",
       "    }\n",
       "\n",
       "    .dataframe thead th {\n",
       "        text-align: right;\n",
       "    }\n",
       "</style>\n",
       "<table border=\"1\" class=\"dataframe\">\n",
       "  <thead>\n",
       "    <tr style=\"text-align: right;\">\n",
       "      <th></th>\n",
       "      <th>id</th>\n",
       "      <th>Longitude</th>\n",
       "      <th>Latitude</th>\n",
       "      <th>vs30</th>\n",
       "      <th>epiazimuth</th>\n",
       "      <th>mu_logIM</th>\n",
       "      <th>tau_logIM</th>\n",
       "      <th>phi_logIM</th>\n",
       "      <th>BuildingClass</th>\n",
       "      <th>DamageState</th>\n",
       "    </tr>\n",
       "  </thead>\n",
       "  <tbody>\n",
       "    <tr>\n",
       "      <th>0</th>\n",
       "      <td>0</td>\n",
       "      <td>13.430660</td>\n",
       "      <td>42.302485</td>\n",
       "      <td>529.93370</td>\n",
       "      <td>44.626553</td>\n",
       "      <td>-0.565073</td>\n",
       "      <td>0.501964</td>\n",
       "      <td>0.66775</td>\n",
       "      <td>A</td>\n",
       "      <td>0</td>\n",
       "    </tr>\n",
       "    <tr>\n",
       "      <th>1</th>\n",
       "      <td>1</td>\n",
       "      <td>13.288765</td>\n",
       "      <td>42.396429</td>\n",
       "      <td>509.20395</td>\n",
       "      <td>164.165307</td>\n",
       "      <td>-0.677659</td>\n",
       "      <td>0.501964</td>\n",
       "      <td>0.66775</td>\n",
       "      <td>A</td>\n",
       "      <td>3</td>\n",
       "    </tr>\n",
       "    <tr>\n",
       "      <th>2</th>\n",
       "      <td>2</td>\n",
       "      <td>13.365190</td>\n",
       "      <td>42.365922</td>\n",
       "      <td>450.50436</td>\n",
       "      <td>169.837767</td>\n",
       "      <td>-0.565073</td>\n",
       "      <td>0.501964</td>\n",
       "      <td>0.66775</td>\n",
       "      <td>A</td>\n",
       "      <td>3</td>\n",
       "    </tr>\n",
       "    <tr>\n",
       "      <th>3</th>\n",
       "      <td>3</td>\n",
       "      <td>13.402773</td>\n",
       "      <td>42.348720</td>\n",
       "      <td>453.86163</td>\n",
       "      <td>177.774937</td>\n",
       "      <td>-0.565073</td>\n",
       "      <td>0.501964</td>\n",
       "      <td>0.66775</td>\n",
       "      <td>A</td>\n",
       "      <td>1</td>\n",
       "    </tr>\n",
       "    <tr>\n",
       "      <th>4</th>\n",
       "      <td>4</td>\n",
       "      <td>13.400559</td>\n",
       "      <td>42.352410</td>\n",
       "      <td>455.24070</td>\n",
       "      <td>179.724174</td>\n",
       "      <td>-0.565073</td>\n",
       "      <td>0.501964</td>\n",
       "      <td>0.66775</td>\n",
       "      <td>A</td>\n",
       "      <td>3</td>\n",
       "    </tr>\n",
       "    <tr>\n",
       "      <th>...</th>\n",
       "      <td>...</td>\n",
       "      <td>...</td>\n",
       "      <td>...</td>\n",
       "      <td>...</td>\n",
       "      <td>...</td>\n",
       "      <td>...</td>\n",
       "      <td>...</td>\n",
       "      <td>...</td>\n",
       "      <td>...</td>\n",
       "      <td>...</td>\n",
       "    </tr>\n",
       "    <tr>\n",
       "      <th>4195</th>\n",
       "      <td>4195</td>\n",
       "      <td>13.395423</td>\n",
       "      <td>41.972135</td>\n",
       "      <td>536.46490</td>\n",
       "      <td>44.474262</td>\n",
       "      <td>-2.146303</td>\n",
       "      <td>0.501964</td>\n",
       "      <td>0.66775</td>\n",
       "      <td>C</td>\n",
       "      <td>0</td>\n",
       "    </tr>\n",
       "    <tr>\n",
       "      <th>4196</th>\n",
       "      <td>4196</td>\n",
       "      <td>13.390121</td>\n",
       "      <td>41.963362</td>\n",
       "      <td>622.23680</td>\n",
       "      <td>44.986776</td>\n",
       "      <td>-2.188677</td>\n",
       "      <td>0.501964</td>\n",
       "      <td>0.66775</td>\n",
       "      <td>C</td>\n",
       "      <td>0</td>\n",
       "    </tr>\n",
       "    <tr>\n",
       "      <th>4197</th>\n",
       "      <td>4197</td>\n",
       "      <td>13.567571</td>\n",
       "      <td>42.245930</td>\n",
       "      <td>425.86472</td>\n",
       "      <td>347.998133</td>\n",
       "      <td>-0.677665</td>\n",
       "      <td>0.501964</td>\n",
       "      <td>0.66775</td>\n",
       "      <td>C</td>\n",
       "      <td>2</td>\n",
       "    </tr>\n",
       "    <tr>\n",
       "      <th>4198</th>\n",
       "      <td>4198</td>\n",
       "      <td>13.412729</td>\n",
       "      <td>42.059801</td>\n",
       "      <td>431.81610</td>\n",
       "      <td>43.196936</td>\n",
       "      <td>-1.681242</td>\n",
       "      <td>0.501964</td>\n",
       "      <td>0.66775</td>\n",
       "      <td>C</td>\n",
       "      <td>0</td>\n",
       "    </tr>\n",
       "    <tr>\n",
       "      <th>4199</th>\n",
       "      <td>4199</td>\n",
       "      <td>13.469757</td>\n",
       "      <td>42.055949</td>\n",
       "      <td>512.21970</td>\n",
       "      <td>34.122754</td>\n",
       "      <td>-1.676808</td>\n",
       "      <td>0.501964</td>\n",
       "      <td>0.66775</td>\n",
       "      <td>C</td>\n",
       "      <td>0</td>\n",
       "    </tr>\n",
       "  </tbody>\n",
       "</table>\n",
       "<p>4200 rows × 10 columns</p>\n",
       "</div>"
      ],
      "text/plain": [
       "        id  Longitude   Latitude       vs30  epiazimuth  mu_logIM  tau_logIM  \\\n",
       "0        0  13.430660  42.302485  529.93370   44.626553 -0.565073   0.501964   \n",
       "1        1  13.288765  42.396429  509.20395  164.165307 -0.677659   0.501964   \n",
       "2        2  13.365190  42.365922  450.50436  169.837767 -0.565073   0.501964   \n",
       "3        3  13.402773  42.348720  453.86163  177.774937 -0.565073   0.501964   \n",
       "4        4  13.400559  42.352410  455.24070  179.724174 -0.565073   0.501964   \n",
       "...    ...        ...        ...        ...         ...       ...        ...   \n",
       "4195  4195  13.395423  41.972135  536.46490   44.474262 -2.146303   0.501964   \n",
       "4196  4196  13.390121  41.963362  622.23680   44.986776 -2.188677   0.501964   \n",
       "4197  4197  13.567571  42.245930  425.86472  347.998133 -0.677665   0.501964   \n",
       "4198  4198  13.412729  42.059801  431.81610   43.196936 -1.681242   0.501964   \n",
       "4199  4199  13.469757  42.055949  512.21970   34.122754 -1.676808   0.501964   \n",
       "\n",
       "      phi_logIM BuildingClass  DamageState  \n",
       "0       0.66775             A            0  \n",
       "1       0.66775             A            3  \n",
       "2       0.66775             A            3  \n",
       "3       0.66775             A            1  \n",
       "4       0.66775             A            3  \n",
       "...         ...           ...          ...  \n",
       "4195    0.66775             C            0  \n",
       "4196    0.66775             C            0  \n",
       "4197    0.66775             C            2  \n",
       "4198    0.66775             C            0  \n",
       "4199    0.66775             C            0  \n",
       "\n",
       "[4200 rows x 10 columns]"
      ]
     },
     "execution_count": 3,
     "metadata": {},
     "output_type": "execute_result"
    }
   ],
   "source": [
    "df = pd.read_csv(path_data + 'survey_im' + im_string + '_' + gmm_combo + '.csv')\n",
    "df"
   ]
  },
  {
   "cell_type": "code",
   "execution_count": 94,
   "metadata": {},
   "outputs": [
    {
     "ename": "AttributeError",
     "evalue": "'DataFrame' object has no attribute 'BuildingClass'",
     "output_type": "error",
     "traceback": [
      "\u001b[1;31m---------------------------------------------------------------------------\u001b[0m",
      "\u001b[1;31mAttributeError\u001b[0m                            Traceback (most recent call last)",
      "\u001b[1;32m~\\AppData\\Local\\Temp\\ipykernel_2092\\861741642.py\u001b[0m in \u001b[0;36m?\u001b[1;34m()\u001b[0m\n\u001b[0;32m      9\u001b[0m     \u001b[0mtau_logIM\u001b[0m \u001b[1;33m=\u001b[0m \u001b[0mdf\u001b[0m\u001b[1;33m[\u001b[0m\u001b[1;34m'tau_logIM'\u001b[0m\u001b[1;33m]\u001b[0m\u001b[1;33m.\u001b[0m\u001b[0mvalues\u001b[0m\u001b[1;33m,\u001b[0m\u001b[1;33m\u001b[0m\u001b[1;33m\u001b[0m\u001b[0m\n\u001b[0;32m     10\u001b[0m     \u001b[0mphi_logIM\u001b[0m \u001b[1;33m=\u001b[0m \u001b[0mdf\u001b[0m\u001b[1;33m[\u001b[0m\u001b[1;34m'phi_logIM'\u001b[0m\u001b[1;33m]\u001b[0m\u001b[1;33m.\u001b[0m\u001b[0mvalues\u001b[0m\u001b[1;33m,\u001b[0m\u001b[1;33m\u001b[0m\u001b[1;33m\u001b[0m\u001b[0m\n\u001b[0;32m     11\u001b[0m )\n\u001b[0;32m     12\u001b[0m \u001b[1;31m# Extract observed building classes and damage states\u001b[0m\u001b[1;33m\u001b[0m\u001b[1;33m\u001b[0m\u001b[0m\n\u001b[1;32m---> 13\u001b[1;33m obs_BC = pd.Categorical(df.BuildingClass.copy(), categories = args['list_bc'], \n\u001b[0m\u001b[0;32m     14\u001b[0m                         ordered=True)\n\u001b[0;32m     15\u001b[0m obs_DS = pd.Categorical(df.DamageState.copy(), categories = args['list_ds'], \n\u001b[0;32m     16\u001b[0m                         ordered = True)\n",
      "\u001b[1;32mc:\\Users\\bodlukas\\Anaconda3\\envs\\numpyro\\lib\\site-packages\\pandas\\core\\generic.py\u001b[0m in \u001b[0;36m?\u001b[1;34m(self, name)\u001b[0m\n\u001b[0;32m   5898\u001b[0m             \u001b[1;32mand\u001b[0m \u001b[0mname\u001b[0m \u001b[1;32mnot\u001b[0m \u001b[1;32min\u001b[0m \u001b[0mself\u001b[0m\u001b[1;33m.\u001b[0m\u001b[0m_accessors\u001b[0m\u001b[1;33m\u001b[0m\u001b[1;33m\u001b[0m\u001b[0m\n\u001b[0;32m   5899\u001b[0m             \u001b[1;32mand\u001b[0m \u001b[0mself\u001b[0m\u001b[1;33m.\u001b[0m\u001b[0m_info_axis\u001b[0m\u001b[1;33m.\u001b[0m\u001b[0m_can_hold_identifiers_and_holds_name\u001b[0m\u001b[1;33m(\u001b[0m\u001b[0mname\u001b[0m\u001b[1;33m)\u001b[0m\u001b[1;33m\u001b[0m\u001b[1;33m\u001b[0m\u001b[0m\n\u001b[0;32m   5900\u001b[0m         ):\n\u001b[0;32m   5901\u001b[0m             \u001b[1;32mreturn\u001b[0m \u001b[0mself\u001b[0m\u001b[1;33m[\u001b[0m\u001b[0mname\u001b[0m\u001b[1;33m]\u001b[0m\u001b[1;33m\u001b[0m\u001b[1;33m\u001b[0m\u001b[0m\n\u001b[1;32m-> 5902\u001b[1;33m         \u001b[1;32mreturn\u001b[0m \u001b[0mobject\u001b[0m\u001b[1;33m.\u001b[0m\u001b[0m__getattribute__\u001b[0m\u001b[1;33m(\u001b[0m\u001b[0mself\u001b[0m\u001b[1;33m,\u001b[0m \u001b[0mname\u001b[0m\u001b[1;33m)\u001b[0m\u001b[1;33m\u001b[0m\u001b[1;33m\u001b[0m\u001b[0m\n\u001b[0m",
      "\u001b[1;31mAttributeError\u001b[0m: 'DataFrame' object has no attribute 'BuildingClass'"
     ]
    }
   ],
   "source": [
    "from modules.utils import Sites\n",
    "# Create sites\n",
    "survey_sites = Sites(\n",
    "    coordinates = df[['Longitude', 'Latitude']].values,\n",
    "    # The correlation model of BodenmannEtAl2023 requires additional inputs:\n",
    "    # epiazimuth = df['epiazimuth'].values,\n",
    "    # vs30 = df['vs30'].values,\n",
    "    mu_logIM = df['mu_logIM'].values,\n",
    "    tau_logIM = df['tau_logIM'].values,\n",
    "    phi_logIM = df['phi_logIM'].values,\n",
    ")\n",
    "# Extract observed building classes and damage states\n",
    "obs_BC = pd.Categorical(df.BuildingClass.copy(), categories = args['list_bc'], \n",
    "                        ordered=True)\n",
    "obs_DS = pd.Categorical(df.DamageState.copy(), categories = args['list_ds'], \n",
    "                        ordered = True)"
   ]
  },
  {
   "cell_type": "markdown",
   "metadata": {},
   "source": [
    "### Import station data\n",
    "\n",
    "This fictitious station data set contains information from 64 stations. For each station the data set provides the same attributes as for the surveyed buildings with the exception of BuildingClass and DamageState. Additionally it provides the observed logIM value as obtained from the ground motion recordings (obs_logIM). "
   ]
  },
  {
   "cell_type": "code",
   "execution_count": 92,
   "metadata": {},
   "outputs": [
    {
     "data": {
      "text/html": [
       "<div>\n",
       "<style scoped>\n",
       "    .dataframe tbody tr th:only-of-type {\n",
       "        vertical-align: middle;\n",
       "    }\n",
       "\n",
       "    .dataframe tbody tr th {\n",
       "        vertical-align: top;\n",
       "    }\n",
       "\n",
       "    .dataframe thead th {\n",
       "        text-align: right;\n",
       "    }\n",
       "</style>\n",
       "<table border=\"1\" class=\"dataframe\">\n",
       "  <thead>\n",
       "    <tr style=\"text-align: right;\">\n",
       "      <th></th>\n",
       "      <th>network_code</th>\n",
       "      <th>station_code</th>\n",
       "      <th>Longitude</th>\n",
       "      <th>Latitude</th>\n",
       "      <th>vs30</th>\n",
       "      <th>epiazimuth</th>\n",
       "      <th>mu_logIM</th>\n",
       "      <th>tau_logIM</th>\n",
       "      <th>phi_logIM</th>\n",
       "      <th>obs_logIM</th>\n",
       "    </tr>\n",
       "  </thead>\n",
       "  <tbody>\n",
       "    <tr>\n",
       "      <th>0</th>\n",
       "      <td>BA</td>\n",
       "      <td>SANL</td>\n",
       "      <td>16.271763</td>\n",
       "      <td>40.252750</td>\n",
       "      <td>443.000000</td>\n",
       "      <td>353.142741</td>\n",
       "      <td>-6.290024</td>\n",
       "      <td>0.501964</td>\n",
       "      <td>0.66775</td>\n",
       "      <td>-5.798707</td>\n",
       "    </tr>\n",
       "    <tr>\n",
       "      <th>1</th>\n",
       "      <td>BA</td>\n",
       "      <td>TTS</td>\n",
       "      <td>15.723605</td>\n",
       "      <td>40.601345</td>\n",
       "      <td>175.000000</td>\n",
       "      <td>354.267481</td>\n",
       "      <td>-5.724108</td>\n",
       "      <td>0.501964</td>\n",
       "      <td>0.66775</td>\n",
       "      <td>-5.672250</td>\n",
       "    </tr>\n",
       "    <tr>\n",
       "      <th>2</th>\n",
       "      <td>IT</td>\n",
       "      <td>ANT</td>\n",
       "      <td>13.078598</td>\n",
       "      <td>42.418110</td>\n",
       "      <td>912.000000</td>\n",
       "      <td>149.814260</td>\n",
       "      <td>-2.185333</td>\n",
       "      <td>0.501964</td>\n",
       "      <td>0.66775</td>\n",
       "      <td>-2.927012</td>\n",
       "    </tr>\n",
       "    <tr>\n",
       "      <th>3</th>\n",
       "      <td>IT</td>\n",
       "      <td>AQA</td>\n",
       "      <td>13.339298</td>\n",
       "      <td>42.375530</td>\n",
       "      <td>549.000000</td>\n",
       "      <td>166.596045</td>\n",
       "      <td>-0.565073</td>\n",
       "      <td>0.501964</td>\n",
       "      <td>0.66775</td>\n",
       "      <td>-0.297195</td>\n",
       "    </tr>\n",
       "    <tr>\n",
       "      <th>4</th>\n",
       "      <td>IT</td>\n",
       "      <td>AQG</td>\n",
       "      <td>13.337026</td>\n",
       "      <td>42.373474</td>\n",
       "      <td>696.000000</td>\n",
       "      <td>164.839746</td>\n",
       "      <td>-0.565073</td>\n",
       "      <td>0.501964</td>\n",
       "      <td>0.66775</td>\n",
       "      <td>-0.114087</td>\n",
       "    </tr>\n",
       "    <tr>\n",
       "      <th>...</th>\n",
       "      <td>...</td>\n",
       "      <td>...</td>\n",
       "      <td>...</td>\n",
       "      <td>...</td>\n",
       "      <td>...</td>\n",
       "      <td>...</td>\n",
       "      <td>...</td>\n",
       "      <td>...</td>\n",
       "      <td>...</td>\n",
       "      <td>...</td>\n",
       "    </tr>\n",
       "    <tr>\n",
       "      <th>59</th>\n",
       "      <td>IV</td>\n",
       "      <td>GUMA</td>\n",
       "      <td>13.335200</td>\n",
       "      <td>43.062700</td>\n",
       "      <td>488.000000</td>\n",
       "      <td>214.400740</td>\n",
       "      <td>-3.347616</td>\n",
       "      <td>0.501964</td>\n",
       "      <td>0.66775</td>\n",
       "      <td>-2.841704</td>\n",
       "    </tr>\n",
       "    <tr>\n",
       "      <th>60</th>\n",
       "      <td>IV</td>\n",
       "      <td>SENI</td>\n",
       "      <td>13.233100</td>\n",
       "      <td>43.705200</td>\n",
       "      <td>242.000000</td>\n",
       "      <td>213.954197</td>\n",
       "      <td>-4.392700</td>\n",
       "      <td>0.501964</td>\n",
       "      <td>0.66775</td>\n",
       "      <td>-2.870504</td>\n",
       "    </tr>\n",
       "    <tr>\n",
       "      <th>61</th>\n",
       "      <td>MN</td>\n",
       "      <td>AQU</td>\n",
       "      <td>13.401930</td>\n",
       "      <td>42.353880</td>\n",
       "      <td>455.862823</td>\n",
       "      <td>182.342906</td>\n",
       "      <td>-0.565073</td>\n",
       "      <td>0.501964</td>\n",
       "      <td>0.66775</td>\n",
       "      <td>-0.909393</td>\n",
       "    </tr>\n",
       "    <tr>\n",
       "      <th>62</th>\n",
       "      <td>SL</td>\n",
       "      <td>BOJS</td>\n",
       "      <td>15.251800</td>\n",
       "      <td>45.504300</td>\n",
       "      <td>760.000000</td>\n",
       "      <td>241.691966</td>\n",
       "      <td>-6.733770</td>\n",
       "      <td>0.501964</td>\n",
       "      <td>0.66775</td>\n",
       "      <td>-6.226881</td>\n",
       "    </tr>\n",
       "    <tr>\n",
       "      <th>63</th>\n",
       "      <td>SL</td>\n",
       "      <td>LJU</td>\n",
       "      <td>14.527800</td>\n",
       "      <td>46.043800</td>\n",
       "      <td>760.000000</td>\n",
       "      <td>231.466323</td>\n",
       "      <td>-7.044662</td>\n",
       "      <td>0.501964</td>\n",
       "      <td>0.66775</td>\n",
       "      <td>-5.639930</td>\n",
       "    </tr>\n",
       "  </tbody>\n",
       "</table>\n",
       "<p>64 rows × 10 columns</p>\n",
       "</div>"
      ],
      "text/plain": [
       "   network_code station_code  Longitude   Latitude        vs30  epiazimuth  \\\n",
       "0            BA         SANL  16.271763  40.252750  443.000000  353.142741   \n",
       "1            BA          TTS  15.723605  40.601345  175.000000  354.267481   \n",
       "2            IT          ANT  13.078598  42.418110  912.000000  149.814260   \n",
       "3            IT          AQA  13.339298  42.375530  549.000000  166.596045   \n",
       "4            IT          AQG  13.337026  42.373474  696.000000  164.839746   \n",
       "..          ...          ...        ...        ...         ...         ...   \n",
       "59           IV         GUMA  13.335200  43.062700  488.000000  214.400740   \n",
       "60           IV         SENI  13.233100  43.705200  242.000000  213.954197   \n",
       "61           MN          AQU  13.401930  42.353880  455.862823  182.342906   \n",
       "62           SL         BOJS  15.251800  45.504300  760.000000  241.691966   \n",
       "63           SL          LJU  14.527800  46.043800  760.000000  231.466323   \n",
       "\n",
       "    mu_logIM  tau_logIM  phi_logIM  obs_logIM  \n",
       "0  -6.290024   0.501964    0.66775  -5.798707  \n",
       "1  -5.724108   0.501964    0.66775  -5.672250  \n",
       "2  -2.185333   0.501964    0.66775  -2.927012  \n",
       "3  -0.565073   0.501964    0.66775  -0.297195  \n",
       "4  -0.565073   0.501964    0.66775  -0.114087  \n",
       "..       ...        ...        ...        ...  \n",
       "59 -3.347616   0.501964    0.66775  -2.841704  \n",
       "60 -4.392700   0.501964    0.66775  -2.870504  \n",
       "61 -0.565073   0.501964    0.66775  -0.909393  \n",
       "62 -6.733770   0.501964    0.66775  -6.226881  \n",
       "63 -7.044662   0.501964    0.66775  -5.639930  \n",
       "\n",
       "[64 rows x 10 columns]"
      ]
     },
     "execution_count": 92,
     "metadata": {},
     "output_type": "execute_result"
    }
   ],
   "source": [
    "df = pd.read_csv(path_data + 'stations_im' + im_string + '_' + gmm_combo + '.csv')\n",
    "df"
   ]
  },
  {
   "cell_type": "code",
   "execution_count": 93,
   "metadata": {},
   "outputs": [],
   "source": [
    "# Create sites\n",
    "station_sites = Sites(\n",
    "    coordinates = df[['Longitude', 'Latitude']].values,\n",
    "    mu_logIM = df['mu_logIM'].values,\n",
    "    tau_logIM = df['tau_logIM'].values,\n",
    "    phi_logIM = df['phi_logIM'].values,\n",
    ")\n",
    "\n",
    "# Extract observed logIM values\n",
    "obs_logIM = df['obs_logIM'].values"
   ]
  },
  {
   "cell_type": "markdown",
   "metadata": {},
   "source": [
    "### Condition IM on station data\n",
    "\n",
    "Compute $p(\\mathbf{im}_\\mathcal{B}|\\mathbf{im}_\\mathcal{S}, \\mathbf{rup})=\\mathcal{LN}(\\boldsymbol{\\mu}_{\\mathcal{B}|\\mathcal{S}}, \\boldsymbol{\\Sigma}_{\\mathcal{BB}|\\mathcal{S}})$. \n",
    "\n",
    "For inference, only $\\boldsymbol{\\mu}_{\\mathcal{B}|\\mathcal{S}}$ and the lower Cholesky decomposition $\\mathbf{L}\\mathbf{L}^\\top = \\boldsymbol{\\Sigma}_{\\mathcal{BB}|\\mathcal{S}}$ is required. "
   ]
  },
  {
   "cell_type": "code",
   "execution_count": 21,
   "metadata": {},
   "outputs": [],
   "source": [
    "# Spatial correlation model\n",
    "if args['SCM'] == 'EspositoIervolino2012':\n",
    "    from modules.spatialcorrelation import EspositoIervolino2012\n",
    "    scm = EspositoIervolino2012(args['im_string'])\n",
    "elif args['SCM'] == 'BodenmannEtAl2023':\n",
    "    from modules.spatialcorrelation import BodenmannEtAl2023\n",
    "    scm = BodenmannEtAl2023(args['im_string'])\n",
    "\n",
    "# Computations\n",
    "from modules.shakemap import GPR\n",
    "gpr = GPR(SCM=scm) # Initialize\n",
    "gpr.fit(station_sites, obs_logIM, jitter=1e-4) # Add station data\n",
    "mu_B_S, Sigma_BB_S = gpr.predict(survey_sites) # Compute parameters\n",
    "L_BB_S = np.linalg.cholesky(Sigma_BB_S) # Lower Cholesky transform\n",
    "\n",
    "# Delete the covariance matrix to save memory\n",
    "del Sigma_BB_S"
   ]
  },
  {
   "cell_type": "markdown",
   "metadata": {},
   "source": [
    "### Inference"
   ]
  },
  {
   "cell_type": "code",
   "execution_count": 118,
   "metadata": {},
   "outputs": [
    {
     "name": "stderr",
     "output_type": "stream",
     "text": [
      "C:\\Users\\bodlukas\\AppData\\Local\\Temp\\ipykernel_9588\\2388045442.py:3: UserWarning: There are not enough devices to run parallel chains: expected 4 but got 1. Chains will be drawn sequentially. If you are running MCMC in CPU, consider using `numpyro.set_host_device_count(4)` at the beginning of your program. You can double-check how many devices are available in your system using `jax.local_device_count()`.\n",
      "  nuts = MCMC( NUTS(Model_MCMC), **mcmc_args )\n",
      "sample: 100%|██████████| 1750/1750 [20:14<00:00,  1.44it/s, 31 steps of size 1.23e-01. acc. prob=0.89]  \n",
      "sample: 100%|██████████| 1750/1750 [17:11<00:00,  1.70it/s, 31 steps of size 1.37e-01. acc. prob=0.85]  \n",
      "sample: 100%|██████████| 1750/1750 [18:29<00:00,  1.58it/s, 31 steps of size 1.36e-01. acc. prob=0.86]  \n",
      "sample: 100%|██████████| 1750/1750 [17:07<00:00,  1.70it/s, 31 steps of size 1.34e-01. acc. prob=0.86]  \n"
     ]
    }
   ],
   "source": [
    "from modules.inference import Model_MCMC\n",
    "\n",
    "# Initialize NUTS sampler\n",
    "rng_key = random.PRNGKey(args['mcmc_seed'])\n",
    "mcmc = MCMC(NUTS(Model_MCMC), **args['mcmc'])\n",
    "\n",
    "# Perform MCMC\n",
    "mcmc.run(rng_key, mu = mu_B_S, L = L_BB_S, \n",
    "        ds = obs_DS, bc = obs_BC.codes,\n",
    "        n_ds = len(args['list_ds']), \n",
    "        n_bc = len(args['list_bc']))"
   ]
  },
  {
   "cell_type": "code",
   "execution_count": 243,
   "metadata": {},
   "outputs": [
    {
     "data": {
      "text/plain": [
       "dict_keys(['beta', 'deltas', 'eta1', 'z'])"
      ]
     },
     "execution_count": 243,
     "metadata": {},
     "output_type": "execute_result"
    }
   ],
   "source": [
    "samples.keys()"
   ]
  },
  {
   "cell_type": "code",
   "execution_count": 129,
   "metadata": {},
   "outputs": [],
   "source": [
    "def get_etas_betas(samples, n_bc):\n",
    "  etas = []\n",
    "  betas = []\n",
    "  for bc in range(n_bc):\n",
    "    etas_temp = np.append(samples['eta1'][:, bc],\n",
    "                        samples['eta1'][:, bc] +\n",
    "                        np.cumsum(samples['deltas'][:, bc, :], axis=-1), axis=-1)\n",
    "    beta = samples['beta'][:, bc]\n",
    "    etas.append(etas_temp)\n",
    "    betas.append(beta)\n",
    "  return np.stack(etas), np.stack(betas)\n",
    "\n",
    "etas, betas = get_etas_betas(samples, n_bc=args['n_bc'])"
   ]
  },
  {
   "cell_type": "code",
   "execution_count": 137,
   "metadata": {},
   "outputs": [],
   "source": [
    "np.savez('res_twodim_frag.npz',\n",
    "         etas = etas, betas = betas)"
   ]
  },
  {
   "cell_type": "code",
   "execution_count": 143,
   "metadata": {},
   "outputs": [],
   "source": [
    "logIM_B = (mu_B_S[:,None] + L_BB_S @ samples['z'].T)\n",
    "mu_logIM = np.mean(logIM_B, axis=1)\n",
    "std_logIM = np.std(logIM_B, axis=1)"
   ]
  },
  {
   "cell_type": "code",
   "execution_count": 145,
   "metadata": {},
   "outputs": [],
   "source": [
    "np.savez('res_twodim_logIM.npz',\n",
    "         mean = mu_logIM, std = std_logIM)"
   ]
  },
  {
   "cell_type": "code",
   "execution_count": 164,
   "metadata": {},
   "outputs": [
    {
     "data": {
      "text/plain": [
       "(3000, 4200)"
      ]
     },
     "execution_count": 164,
     "metadata": {},
     "output_type": "execute_result"
    }
   ],
   "source": [
    "samples['z'].shape"
   ]
  },
  {
   "cell_type": "code",
   "execution_count": 22,
   "metadata": {},
   "outputs": [],
   "source": [
    "from scipy import linalg\n",
    "class PosteriorPredictiveIM(object):\n",
    "    '''\n",
    "    This object is used to compute the distribution of logIM conditional on \n",
    "    observed IMs at seismic network stations.\n",
    "\n",
    "    The mean and the covariance functions are functions similar to getMean and \n",
    "    getCov from above.\n",
    "    '''\n",
    "\n",
    "    def __init__(self, GPR: GPR, survey_sites: Sites):\n",
    "        '''\n",
    "        Args:\n",
    "            GPR (GPR): Shake map computer\n",
    "\n",
    "            survey_sites (Sites): Surveyed building sites\n",
    "        '''\n",
    "        self.gpr = GPR\n",
    "        self.survey_sites = survey_sites\n",
    "        self._precompute()\n",
    "    \n",
    "    def sample(self, rng_keys, target_sites, z_samples, L_BB_S, full_cov=True):\n",
    "        '''\n",
    "        Sample logIM values from the posterior predictive at the target_sites\n",
    "        For each sample from the posterior of logIM at survey sites:\n",
    "            - compute the posterior predictive at target sites\n",
    "            - generate one sample from the posterior predictive\n",
    "\n",
    "        Args:\n",
    "            rng_keys (): random number generator from Numpyro\n",
    "\n",
    "            target_sites (Sites): Sites at which we draw samples from the posterior predictive\n",
    "\n",
    "            z_samples (ArrayLike): Posterior samples of z\n",
    "                dimension: (n_samples, n_survey_sites)\n",
    "\n",
    "            L_BB_S (ArrayLike): Lower Cholesky Decomposition of Sigma_BB_S\n",
    "\n",
    "            full_cov (bool): if true, generate samples from the multivariate posterior predictive\n",
    "                            if false, generate samples from the univariate posterior predictive\n",
    "\n",
    "        Returns:\n",
    "            sam_logIM (ArrayLike): Samples from the posterior predictive IM at the target_sites\n",
    "                dimension: (n_samples, n_target_sites)\n",
    "        '''\n",
    "        # Covariance matrix between prior logIM at target and survey sites\n",
    "        Sigma_TB = gpr.getCov(target_sites, self.survey_sites)\n",
    "        # Covariance matrix between prior logIM at station and target sites\n",
    "        Sigma_ST = gpr.getCov(self.gpr.sites, target_sites)\n",
    "        # Mean and covariance matrix of logIM at target sites conditional on station data\n",
    "        mu_T_S, Sigma_TT_S = gpr.predict(target_sites, full_cov = full_cov)\n",
    "\n",
    "        sam_logIM = self._sampler(rng_keys, z_samples, Sigma_TB, Sigma_ST, \n",
    "                               mu_T_S, Sigma_TT_S, L_BB_S, full_cov=full_cov)\n",
    "        return sam_logIM\n",
    "\n",
    "    def _precompute(self):\n",
    "        Sigma_SS = self.gpr.getCov(self.gpr.sites)\n",
    "        self.L_SS = np.linalg.cholesky(Sigma_SS)\n",
    "        # (L_SS)^-1 Sigma_SB\n",
    "        self.A_SB = linalg.solve_triangular(self.L_SS,\n",
    "                    self.gpr.getCov(self.gpr.sites, survey_sites),\n",
    "                    lower=True)\n",
    "\n",
    "    def _sampler(self, rng_key, z_samples, Sigma_TB, Sigma_ST, \n",
    "                               mu_T_S, Sigma_TT_S, L_BB_S, full_cov):\n",
    "        num_samples = z_samples.shape[0]\n",
    "        # (L_SS)^-1 Sigma_ST\n",
    "        A_ST = jax.scipy.linalg.solve_triangular(self.L_SS, Sigma_ST, lower=True)\n",
    "        # Covariance matrix between logIM at target and survey sites conditional on station data\n",
    "        Sigma_TB_S = Sigma_TB - (A_ST.T @ self.A_SB)\n",
    "        # (L_BB_S)^-1 Sigma_BT_S\n",
    "        A_BT_S = jax.scipy.linalg.solve_triangular(L_BB_S, Sigma_TB_S.T, lower=True)\n",
    "        # Mean of logIM at target sites conditional on posterior samples z \n",
    "        mu_T_S_DS = mu_T_S + (A_BT_S.T @ (z_samples.T)).T                 \n",
    "        if full_cov:\n",
    "            # Covariance matrix of logIM at target sites conditional on station and damage data\n",
    "            Sigma_TT_S_DS = Sigma_TT_S - (A_BT_S.T @ A_BT_S)\n",
    "            sam_logIM = (mu_T_S_DS + random.multivariate_normal(rng_key, jnp.zeros_like(mu_T_S), \n",
    "                                                          Sigma_TT_S_DS, shape=(num_samples,)))\n",
    "        else:\n",
    "            # Standard deviation of logIM at target sites conditional on station and damage data\n",
    "            sigma_T_S_DS = jnp.sqrt(Sigma_TT_S - jnp.sum(A_BT_S**2, axis=0))\n",
    "            sam_logIM = (mu_T_S_DS + sigma_T_S_DS*random.normal(rng_key, shape=mu_T_S_DS.shape))\n",
    "        return sam_logIM\n",
    "    "
   ]
  },
  {
   "cell_type": "code",
   "execution_count": null,
   "metadata": {},
   "outputs": [],
   "source": [
    "postpredIM = PosteriorPredictiveIM(GPR = gpr, survey_sites = survey_sites)"
   ]
  },
  {
   "cell_type": "code",
   "execution_count": null,
   "metadata": {},
   "outputs": [],
   "source": [
    "rng_key = random.PRNGKey(2)\n",
    "rng_keys = random.split(rng_key, samples['z'].shape[0])\n",
    "sam_logIM = postpredIM.sample(rng_key, map_sites, samples['z'], L_BB_S, full_cov=False)"
   ]
  },
  {
   "cell_type": "code",
   "execution_count": null,
   "metadata": {},
   "outputs": [],
   "source": [
    "np.savez('res_twodim_logIM_map.npz',\n",
    "         mean = np.mean(sam_logIM, axis=0), \n",
    "         std = np.std(sam_logIM, axis=0))"
   ]
  },
  {
   "cell_type": "code",
   "execution_count": 89,
   "metadata": {},
   "outputs": [],
   "source": [
    "res = np.load('results/aquila_obs/mcmc_frag_trueAq_seedfold31_nfolds4_fold1_imT0_300_gmmCY2014.npz')"
   ]
  },
  {
   "cell_type": "code",
   "execution_count": 90,
   "metadata": {},
   "outputs": [],
   "source": [
    "import xarray as xr"
   ]
  },
  {
   "cell_type": "code",
   "execution_count": 91,
   "metadata": {},
   "outputs": [
    {
     "data": {
      "text/plain": [
       "NpzFile 'results/aquila_obs/mcmc_frag_trueAq_seedfold31_nfolds4_fold1_imT0_300_gmmCY2014.npz' with keys: etas_tildes, betas"
      ]
     },
     "execution_count": 91,
     "metadata": {},
     "output_type": "execute_result"
    }
   ],
   "source": []
  },
  {
   "cell_type": "code",
   "execution_count": null,
   "metadata": {},
   "outputs": [],
   "source": []
  },
  {
   "cell_type": "code",
   "execution_count": 30,
   "metadata": {},
   "outputs": [],
   "source": [
    "df = pd.read_csv(path_data + 'gridmap_im' + im_string + '_' + gmm_combo + '.csv')\n",
    "# Create sites\n",
    "map_sites = Sites(\n",
    "    coordinates = df[['Longitude', 'Latitude']].values,\n",
    "    mu_logIM = df['mu_logIM'].values,\n",
    "    tau_logIM = df['tau_logIM'].values,\n",
    "    phi_logIM = df['phi_logIM'].values,\n",
    ")\n",
    "sh = (len(df.row.unique()), len(df.col.unique()))"
   ]
  },
  {
   "cell_type": "code",
   "execution_count": 25,
   "metadata": {},
   "outputs": [],
   "source": [
    "mu_T_S, var_T_S = gpr.predict(map_sites, full_cov=False)\n",
    "std_T_S = np.sqrt(var_T_S)"
   ]
  },
  {
   "cell_type": "code",
   "execution_count": 32,
   "metadata": {},
   "outputs": [],
   "source": [
    "res = np.load('res_twodim_logIM_map.npz')\n",
    "mu_T_S_DS = res['mean']\n",
    "std_T_S_DS = res['std']"
   ]
  },
  {
   "cell_type": "code",
   "execution_count": 36,
   "metadata": {},
   "outputs": [],
   "source": [
    "X = map_sites.coor[:, 0].reshape(sh)\n",
    "Y = map_sites.coor[:, 1].reshape(sh)"
   ]
  },
  {
   "cell_type": "code",
   "execution_count": 37,
   "metadata": {},
   "outputs": [],
   "source": [
    "Z = mu_T_S.reshape(sh)"
   ]
  },
  {
   "cell_type": "code",
   "execution_count": 40,
   "metadata": {},
   "outputs": [
    {
     "data": {
      "text/plain": [
       "(49, 29)"
      ]
     },
     "execution_count": 40,
     "metadata": {},
     "output_type": "execute_result"
    }
   ],
   "source": [
    "Z.shape"
   ]
  },
  {
   "cell_type": "code",
   "execution_count": null,
   "metadata": {},
   "outputs": [],
   "source": []
  },
  {
   "cell_type": "code",
   "execution_count": 57,
   "metadata": {},
   "outputs": [
    {
     "data": {
      "text/plain": [
       "[0.02645045393560841, 0.32550119291989005]"
      ]
     },
     "execution_count": 57,
     "metadata": {},
     "output_type": "execute_result"
    }
   ],
   "source": [
    "[max(i) for i in vals]"
   ]
  },
  {
   "cell_type": "code",
   "execution_count": 58,
   "metadata": {},
   "outputs": [
    {
     "data": {
      "text/plain": [
       "[-2.1167877529099135, -2.0599104715476546]"
      ]
     },
     "execution_count": 58,
     "metadata": {},
     "output_type": "execute_result"
    }
   ],
   "source": [
    "[min(i) for i in vals]"
   ]
  },
  {
   "cell_type": "code",
   "execution_count": 88,
   "metadata": {},
   "outputs": [
    {
     "data": {
      "image/png": "[encoded data removed]",
      "text/plain": [
       "<Figure size 700x400 with 3 Axes>"
      ]
     },
     "metadata": {},
     "output_type": "display_data"
    }
   ],
   "source": [
    "X = map_sites.coor[:, 0].reshape(sh)\n",
    "Y = map_sites.coor[:, 1].reshape(sh)\n",
    "norma = mpl.colors.LogNorm(vmin=0.01, vmax=2)\n",
    "cmap = plt.get_cmap('magma')\n",
    "fig, axs = plt.subplots(1, 2, figsize=(7,4), sharey=True,\n",
    "                        constrained_layout=True)\n",
    "vals = [mu_T_S, mu_T_S_DS]\n",
    "for i, ax in enumerate(axs):\n",
    "    Z = np.exp(vals[i].reshape(sh))\n",
    "    im = ax.pcolormesh(X,Y,Z,  norm=norma, cmap=cmap)\n",
    "    ax.scatter(station_sites.coor[:,0], station_sites.coor[:,1], c = obs_logIM,\n",
    "                   marker='^', edgecolor='black', s=10, lw=0.8, norm = norma, cmap=cmap)\n",
    "    if i == 1: \n",
    "        ax.scatter(survey_sites.coor[:,0], survey_sites.coor[:,1], \n",
    "                   marker='.', color='black', s=0.8, lw=0.2)\n",
    "    ax.set_xlim([13.3, 13.46])\n",
    "    ax.set_ylim([42.225, 42.425])\n",
    "    # ax.set_aspect('equal')\n",
    "cbar = fig.colorbar(im, ax=axs[:], \n",
    "             orientation ='vertical', shrink=0.6, \n",
    "             label='Median SA(0.3s) [g]', pad=0.035,)\n",
    "plt.show()"
   ]
  },
  {
   "cell_type": "code",
   "execution_count": 87,
   "metadata": {},
   "outputs": [
    {
     "data": {
      "image/png": "[encoded data removed]",
      "text/plain": [
       "<Figure size 700x400 with 3 Axes>"
      ]
     },
     "metadata": {},
     "output_type": "display_data"
    }
   ],
   "source": [
    "X = map_sites.coor[:, 0].reshape(sh)\n",
    "Y = map_sites.coor[:, 1].reshape(sh)\n",
    "norma = mpl.colors.Normalize(vmin=0.0, vmax=0.8)\n",
    "cmap = plt.get_cmap('cividis')\n",
    "fig, axs = plt.subplots(1, 2, figsize=(7,4), sharey=True,\n",
    "                        constrained_layout=True)\n",
    "vals = [std_T_S, std_T_S_DS]\n",
    "for i, ax in enumerate(axs):\n",
    "    Z = vals[i].reshape(sh)\n",
    "    im = ax.pcolormesh(X,Y,Z,  norm=norma, cmap=cmap)\n",
    "    ax.scatter(station_sites.coor[:,0], station_sites.coor[:,1], c = obs_logIM,\n",
    "                   marker='^', edgecolor='black', s=10, lw=0.8, norm = norma, cmap=cmap)\n",
    "    if i == 1: \n",
    "        ax.scatter(survey_sites.coor[:,0], survey_sites.coor[:,1], \n",
    "                   marker='.', color='black', s=0.8, lw=0.2)\n",
    "    ax.set_xlim([13.3, 13.46])\n",
    "    ax.set_ylim([42.225, 42.425])\n",
    "    # ax.set_aspect('equal')\n",
    "cbar = fig.colorbar(im, ax=axs[:], \n",
    "             orientation ='vertical', shrink=0.6, \n",
    "             label='logarithmic std dev', pad=0.035,)\n",
    "plt.show()"
   ]
  },
  {
   "cell_type": "code",
   "execution_count": 232,
   "metadata": {},
   "outputs": [
    {
     "data": {
      "text/plain": [
       "Array([[  4.11547768,   4.26718952,   4.34432785, ...,   0.59582679,\n",
       "          0.44179059,   0.28838175],\n",
       "       [ -6.66926156,  -6.84672796,  -6.89403775, ...,  -1.61086368,\n",
       "         -1.44790121,  -1.29273452],\n",
       "       [ -3.8119606 ,  -4.10064686,  -4.36954728, ...,   1.60453844,\n",
       "          1.60683487,   1.60324303],\n",
       "       ...,\n",
       "       [-13.16158114, -13.28457683, -13.30787742, ..., -11.49162743,\n",
       "        -11.37281344, -11.25933949],\n",
       "       [-15.2597984 , -15.39761916, -15.48779439, ..., -19.48356697,\n",
       "        -19.47056344, -19.45807153],\n",
       "       [ 11.67772923,  11.97355215,  12.28931269, ...,   6.96505289,\n",
       "          6.98348105,   7.00450944]], dtype=float64)"
      ]
     },
     "execution_count": 232,
     "metadata": {},
     "output_type": "execute_result"
    }
   ],
   "source": []
  },
  {
   "cell_type": "code",
   "execution_count": 212,
   "metadata": {},
   "outputs": [
    {
     "data": {
      "text/plain": [
       "(3000, 1421)"
      ]
     },
     "execution_count": 212,
     "metadata": {},
     "output_type": "execute_result"
    }
   ],
   "source": [
    "random.multivariate_normal(rng_key, jnp.zeros_like(mutest), Covtest, shape=(3000,)).shape"
   ]
  },
  {
   "cell_type": "code",
   "execution_count": 218,
   "metadata": {},
   "outputs": [
    {
     "data": {
      "text/plain": [
       "(3000, 1421)"
      ]
     },
     "execution_count": 218,
     "metadata": {},
     "output_type": "execute_result"
    }
   ],
   "source": [
    "random.normal(rng_key, shape=(3000, map_sites.n_sites)).shape"
   ]
  },
  {
   "cell_type": "code",
   "execution_count": 185,
   "metadata": {},
   "outputs": [],
   "source": [
    "\n"
   ]
  },
  {
   "cell_type": "code",
   "execution_count": 240,
   "metadata": {},
   "outputs": [],
   "source": [
    "postpredIM = PosteriorPredictiveIM(GPR=gpr, survey_sites=survey_sites)"
   ]
  },
  {
   "cell_type": "code",
   "execution_count": 241,
   "metadata": {},
   "outputs": [],
   "source": [
    "rng_key = random.PRNGKey(2)\n",
    "rng_keys = random.split(rng_key, samples['z'].shape[0])\n",
    "sam_logIM = postpredIM.sample(rng_key, map_sites, samples['z'], L_BB_S, full_cov=False)"
   ]
  },
  {
   "cell_type": "code",
   "execution_count": 236,
   "metadata": {},
   "outputs": [
    {
     "data": {
      "text/plain": [
       "(3000, 1421)"
      ]
     },
     "execution_count": 236,
     "metadata": {},
     "output_type": "execute_result"
    }
   ],
   "source": [
    "sam_logIM.shape"
   ]
  },
  {
   "cell_type": "code",
   "execution_count": 237,
   "metadata": {},
   "outputs": [],
   "source": [
    "np.savez('res_twodim_logIM_map.npz',\n",
    "         mean = np.mean(sam_logIM, axis=0), \n",
    "         std = np.std(sam_logIM, axis=0))"
   ]
  },
  {
   "cell_type": "code",
   "execution_count": 242,
   "metadata": {},
   "outputs": [
    {
     "data": {
      "text/plain": [
       "array([0.21569658, 0.20940965, 0.21419629, ..., 0.48618371, 0.4931727 ,\n",
       "       0.49429619])"
      ]
     },
     "execution_count": 242,
     "metadata": {},
     "output_type": "execute_result"
    }
   ],
   "source": [
    "np.exp(np.mean(sam_logIM, axis=0))"
   ]
  },
  {
   "cell_type": "code",
   "execution_count": 191,
   "metadata": {},
   "outputs": [
    {
     "data": {
      "text/plain": [
       "array([0.21731745, 0.21071297, 0.21620596, ..., 0.48952578, 0.49852432,\n",
       "       0.50163692])"
      ]
     },
     "execution_count": 191,
     "metadata": {},
     "output_type": "execute_result"
    }
   ],
   "source": [
    "np.exp(np.mean(sam_logIM, axis=0))"
   ]
  },
  {
   "cell_type": "code",
   "execution_count": 180,
   "metadata": {},
   "outputs": [],
   "source": [
    "sh = (len(dftarget.row.unique()), len(dftarget.col.unique()))\n",
    "X = dftarget.Longitude.values.reshape(sh)\n",
    "Y = dftarget.Latitude.values.reshape(sh)"
   ]
  },
  {
   "cell_type": "code",
   "execution_count": 169,
   "metadata": {},
   "outputs": [],
   "source": [
    "dftarget = dftarget[(dftarget.Longitude >= 13.3) & (dftarget.Longitude <= 13.47) & \n",
    "         (dftarget.Latitude >= 42.21) & (dftarget.Latitude <= 42.43)].copy()"
   ]
  },
  {
   "cell_type": "code",
   "execution_count": 171,
   "metadata": {},
   "outputs": [
    {
     "ename": "ValueError",
     "evalue": "cannot reshape array of size 1374 into shape (146,83)",
     "output_type": "error",
     "traceback": [
      "\u001b[1;31m---------------------------------------------------------------------------\u001b[0m",
      "\u001b[1;31mValueError\u001b[0m                                Traceback (most recent call last)",
      "\u001b[1;32mz:\\EmpiricalFragility\\github\\empirical-fragility-bayes\\example_Application.ipynb Cell 22\u001b[0m line \u001b[0;36m4\n\u001b[0;32m      <a href='vscode-notebook-cell:/z%3A/EmpiricalFragility/github/empirical-fragility-bayes/example_Application.ipynb#Y146sZmlsZQ%3D%3D?line=0'>1</a>\u001b[0m sh \u001b[39m=\u001b[39m (dftarget\u001b[39m.\u001b[39mrow\u001b[39m.\u001b[39mmax()\u001b[39m+\u001b[39m\u001b[39m1\u001b[39m, dftarget\u001b[39m.\u001b[39mcol\u001b[39m.\u001b[39mmax()\u001b[39m+\u001b[39m\u001b[39m1\u001b[39m)\n\u001b[0;32m      <a href='vscode-notebook-cell:/z%3A/EmpiricalFragility/github/empirical-fragility-bayes/example_Application.ipynb#Y146sZmlsZQ%3D%3D?line=1'>2</a>\u001b[0m \u001b[39m# Lons = d_sm.Longitude.values.reshape(sh)\u001b[39;00m\n\u001b[0;32m      <a href='vscode-notebook-cell:/z%3A/EmpiricalFragility/github/empirical-fragility-bayes/example_Application.ipynb#Y146sZmlsZQ%3D%3D?line=2'>3</a>\u001b[0m \u001b[39m# Lats = d_sm.Latitude.values.reshape(sh)\u001b[39;00m\n\u001b[1;32m----> <a href='vscode-notebook-cell:/z%3A/EmpiricalFragility/github/empirical-fragility-bayes/example_Application.ipynb#Y146sZmlsZQ%3D%3D?line=3'>4</a>\u001b[0m X \u001b[39m=\u001b[39m dftarget\u001b[39m.\u001b[39;49mLongitude\u001b[39m.\u001b[39;49mvalues\u001b[39m.\u001b[39;49mreshape(sh)\n\u001b[0;32m      <a href='vscode-notebook-cell:/z%3A/EmpiricalFragility/github/empirical-fragility-bayes/example_Application.ipynb#Y146sZmlsZQ%3D%3D?line=4'>5</a>\u001b[0m Y \u001b[39m=\u001b[39m dftarget\u001b[39m.\u001b[39mLatitude\u001b[39m.\u001b[39mvalues\u001b[39m.\u001b[39mreshape(sh)\n",
      "\u001b[1;31mValueError\u001b[0m: cannot reshape array of size 1374 into shape (146,83)"
     ]
    }
   ],
   "source": [
    "sh = (dftarget.row.max()+1, dftarget.col.max()+1)\n",
    "# Lons = d_sm.Longitude.values.reshape(sh)\n",
    "# Lats = d_sm.Latitude.values.reshape(sh)\n",
    "X = dftarget.Longitude.values.reshape(sh)\n",
    "Y = dftarget.Latitude.values.reshape(sh)"
   ]
  },
  {
   "cell_type": "code",
   "execution_count": 170,
   "metadata": {},
   "outputs": [
    {
     "data": {
      "text/html": [
       "<div>\n",
       "<style scoped>\n",
       "    .dataframe tbody tr th:only-of-type {\n",
       "        vertical-align: middle;\n",
       "    }\n",
       "\n",
       "    .dataframe tbody tr th {\n",
       "        vertical-align: top;\n",
       "    }\n",
       "\n",
       "    .dataframe thead th {\n",
       "        text-align: right;\n",
       "    }\n",
       "</style>\n",
       "<table border=\"1\" class=\"dataframe\">\n",
       "  <thead>\n",
       "    <tr style=\"text-align: right;\">\n",
       "      <th></th>\n",
       "      <th>col</th>\n",
       "      <th>row</th>\n",
       "      <th>Longitude</th>\n",
       "      <th>Latitude</th>\n",
       "      <th>x</th>\n",
       "      <th>y</th>\n",
       "      <th>vs30</th>\n",
       "      <th>mu_logIM</th>\n",
       "      <th>phi</th>\n",
       "      <th>tau</th>\n",
       "      <th>mu_logPGA</th>\n",
       "      <th>phi_logPGA</th>\n",
       "      <th>tau_logPGA</th>\n",
       "    </tr>\n",
       "  </thead>\n",
       "  <tbody>\n",
       "    <tr>\n",
       "      <th>20813</th>\n",
       "      <td>55</td>\n",
       "      <td>97</td>\n",
       "      <td>13.300450</td>\n",
       "      <td>42.426869</td>\n",
       "      <td>4.593412e+06</td>\n",
       "      <td>2.152815e+06</td>\n",
       "      <td>409.97134</td>\n",
       "      <td>-1.546703</td>\n",
       "      <td>0.66775</td>\n",
       "      <td>0.396045</td>\n",
       "      <td>-1.537262</td>\n",
       "      <td>0.66775</td>\n",
       "      <td>0.396045</td>\n",
       "    </tr>\n",
       "    <tr>\n",
       "      <th>20814</th>\n",
       "      <td>56</td>\n",
       "      <td>97</td>\n",
       "      <td>13.306512</td>\n",
       "      <td>42.426959</td>\n",
       "      <td>4.593911e+06</td>\n",
       "      <td>2.152847e+06</td>\n",
       "      <td>454.24365</td>\n",
       "      <td>-1.527739</td>\n",
       "      <td>0.66775</td>\n",
       "      <td>0.396045</td>\n",
       "      <td>-1.518299</td>\n",
       "      <td>0.66775</td>\n",
       "      <td>0.396045</td>\n",
       "    </tr>\n",
       "    <tr>\n",
       "      <th>20815</th>\n",
       "      <td>57</td>\n",
       "      <td>97</td>\n",
       "      <td>13.312573</td>\n",
       "      <td>42.427048</td>\n",
       "      <td>4.594411e+06</td>\n",
       "      <td>2.152879e+06</td>\n",
       "      <td>455.29028</td>\n",
       "      <td>-1.509383</td>\n",
       "      <td>0.66775</td>\n",
       "      <td>0.396045</td>\n",
       "      <td>-1.499942</td>\n",
       "      <td>0.66775</td>\n",
       "      <td>0.396045</td>\n",
       "    </tr>\n",
       "    <tr>\n",
       "      <th>20816</th>\n",
       "      <td>58</td>\n",
       "      <td>97</td>\n",
       "      <td>13.318634</td>\n",
       "      <td>42.427137</td>\n",
       "      <td>4.594910e+06</td>\n",
       "      <td>2.152910e+06</td>\n",
       "      <td>456.58508</td>\n",
       "      <td>-1.491691</td>\n",
       "      <td>0.66775</td>\n",
       "      <td>0.396045</td>\n",
       "      <td>-1.482250</td>\n",
       "      <td>0.66775</td>\n",
       "      <td>0.396045</td>\n",
       "    </tr>\n",
       "    <tr>\n",
       "      <th>20817</th>\n",
       "      <td>59</td>\n",
       "      <td>97</td>\n",
       "      <td>13.324696</td>\n",
       "      <td>42.427226</td>\n",
       "      <td>4.595410e+06</td>\n",
       "      <td>2.152942e+06</td>\n",
       "      <td>457.61502</td>\n",
       "      <td>-1.474723</td>\n",
       "      <td>0.66775</td>\n",
       "      <td>0.396045</td>\n",
       "      <td>-1.465282</td>\n",
       "      <td>0.66775</td>\n",
       "      <td>0.396045</td>\n",
       "    </tr>\n",
       "    <tr>\n",
       "      <th>...</th>\n",
       "      <td>...</td>\n",
       "      <td>...</td>\n",
       "      <td>...</td>\n",
       "      <td>...</td>\n",
       "      <td>...</td>\n",
       "      <td>...</td>\n",
       "      <td>...</td>\n",
       "      <td>...</td>\n",
       "      <td>...</td>\n",
       "      <td>...</td>\n",
       "      <td>...</td>\n",
       "      <td>...</td>\n",
       "      <td>...</td>\n",
       "    </tr>\n",
       "    <tr>\n",
       "      <th>31108</th>\n",
       "      <td>78</td>\n",
       "      <td>145</td>\n",
       "      <td>13.445201</td>\n",
       "      <td>42.212701</td>\n",
       "      <td>4.606360e+06</td>\n",
       "      <td>2.129659e+06</td>\n",
       "      <td>681.66200</td>\n",
       "      <td>-1.381879</td>\n",
       "      <td>0.66775</td>\n",
       "      <td>0.396045</td>\n",
       "      <td>-1.372438</td>\n",
       "      <td>0.66775</td>\n",
       "      <td>0.396045</td>\n",
       "    </tr>\n",
       "    <tr>\n",
       "      <th>31109</th>\n",
       "      <td>79</td>\n",
       "      <td>145</td>\n",
       "      <td>13.451242</td>\n",
       "      <td>42.212783</td>\n",
       "      <td>4.606859e+06</td>\n",
       "      <td>2.129690e+06</td>\n",
       "      <td>456.64606</td>\n",
       "      <td>-1.371883</td>\n",
       "      <td>0.66775</td>\n",
       "      <td>0.396045</td>\n",
       "      <td>-1.362443</td>\n",
       "      <td>0.66775</td>\n",
       "      <td>0.396045</td>\n",
       "    </tr>\n",
       "    <tr>\n",
       "      <th>31110</th>\n",
       "      <td>80</td>\n",
       "      <td>145</td>\n",
       "      <td>13.457283</td>\n",
       "      <td>42.212864</td>\n",
       "      <td>4.607359e+06</td>\n",
       "      <td>2.129722e+06</td>\n",
       "      <td>543.55800</td>\n",
       "      <td>-1.365146</td>\n",
       "      <td>0.66775</td>\n",
       "      <td>0.396045</td>\n",
       "      <td>-1.355705</td>\n",
       "      <td>0.66775</td>\n",
       "      <td>0.396045</td>\n",
       "    </tr>\n",
       "    <tr>\n",
       "      <th>31111</th>\n",
       "      <td>81</td>\n",
       "      <td>145</td>\n",
       "      <td>13.463325</td>\n",
       "      <td>42.212945</td>\n",
       "      <td>4.607859e+06</td>\n",
       "      <td>2.129754e+06</td>\n",
       "      <td>672.98550</td>\n",
       "      <td>-1.361755</td>\n",
       "      <td>0.66775</td>\n",
       "      <td>0.396045</td>\n",
       "      <td>-1.352315</td>\n",
       "      <td>0.66775</td>\n",
       "      <td>0.396045</td>\n",
       "    </tr>\n",
       "    <tr>\n",
       "      <th>31112</th>\n",
       "      <td>82</td>\n",
       "      <td>145</td>\n",
       "      <td>13.469366</td>\n",
       "      <td>42.213026</td>\n",
       "      <td>4.608358e+06</td>\n",
       "      <td>2.129786e+06</td>\n",
       "      <td>679.87820</td>\n",
       "      <td>-1.361757</td>\n",
       "      <td>0.66775</td>\n",
       "      <td>0.396045</td>\n",
       "      <td>-1.352317</td>\n",
       "      <td>0.66775</td>\n",
       "      <td>0.396045</td>\n",
       "    </tr>\n",
       "  </tbody>\n",
       "</table>\n",
       "<p>1374 rows × 13 columns</p>\n",
       "</div>"
      ],
      "text/plain": [
       "       col  row  Longitude   Latitude             x             y       vs30  \\\n",
       "20813   55   97  13.300450  42.426869  4.593412e+06  2.152815e+06  409.97134   \n",
       "20814   56   97  13.306512  42.426959  4.593911e+06  2.152847e+06  454.24365   \n",
       "20815   57   97  13.312573  42.427048  4.594411e+06  2.152879e+06  455.29028   \n",
       "20816   58   97  13.318634  42.427137  4.594910e+06  2.152910e+06  456.58508   \n",
       "20817   59   97  13.324696  42.427226  4.595410e+06  2.152942e+06  457.61502   \n",
       "...    ...  ...        ...        ...           ...           ...        ...   \n",
       "31108   78  145  13.445201  42.212701  4.606360e+06  2.129659e+06  681.66200   \n",
       "31109   79  145  13.451242  42.212783  4.606859e+06  2.129690e+06  456.64606   \n",
       "31110   80  145  13.457283  42.212864  4.607359e+06  2.129722e+06  543.55800   \n",
       "31111   81  145  13.463325  42.212945  4.607859e+06  2.129754e+06  672.98550   \n",
       "31112   82  145  13.469366  42.213026  4.608358e+06  2.129786e+06  679.87820   \n",
       "\n",
       "       mu_logIM      phi       tau  mu_logPGA  phi_logPGA  tau_logPGA  \n",
       "20813 -1.546703  0.66775  0.396045  -1.537262     0.66775    0.396045  \n",
       "20814 -1.527739  0.66775  0.396045  -1.518299     0.66775    0.396045  \n",
       "20815 -1.509383  0.66775  0.396045  -1.499942     0.66775    0.396045  \n",
       "20816 -1.491691  0.66775  0.396045  -1.482250     0.66775    0.396045  \n",
       "20817 -1.474723  0.66775  0.396045  -1.465282     0.66775    0.396045  \n",
       "...         ...      ...       ...        ...         ...         ...  \n",
       "31108 -1.381879  0.66775  0.396045  -1.372438     0.66775    0.396045  \n",
       "31109 -1.371883  0.66775  0.396045  -1.362443     0.66775    0.396045  \n",
       "31110 -1.365146  0.66775  0.396045  -1.355705     0.66775    0.396045  \n",
       "31111 -1.361755  0.66775  0.396045  -1.352315     0.66775    0.396045  \n",
       "31112 -1.361757  0.66775  0.396045  -1.352317     0.66775    0.396045  \n",
       "\n",
       "[1374 rows x 13 columns]"
      ]
     },
     "execution_count": 170,
     "metadata": {},
     "output_type": "execute_result"
    }
   ],
   "source": [
    "dftarget"
   ]
  },
  {
   "cell_type": "code",
   "execution_count": null,
   "metadata": {},
   "outputs": [],
   "source": [
    "dftarget[['col', 'row']]"
   ]
  },
  {
   "cell_type": "code",
   "execution_count": 162,
   "metadata": {},
   "outputs": [],
   "source": [
    "from scipy import linalg\n",
    "# Precomputed Quantities\n",
    "Sigma_SS = gpr.getCov(gpr.sites)\n",
    "L_SS = np.linalg.cholesky(Sigma_SS)\n",
    "A_SB = linalg.solve_triangular(L_SS,\n",
    "                gpr.getCov(gpr.sites, survey_sites),\n",
    "                lower=True)"
   ]
  },
  {
   "cell_type": "code",
   "execution_count": null,
   "metadata": {},
   "outputs": [],
   "source": [
    "def compute_mu_Sigma_pred(sites_new, sites, gpr, full_cov=True):\n",
    "  Sigma_TB = gpr.getCov(sites_new, sites)\n",
    "  Sigma_ST = gpr.getCov(gpr.sites, sites_new)\n",
    "  A_ST = jax.scipy.linalg.solve_triangular(L_SS, Sigma_ST, lower=True)\n",
    "  Sigma_TB_S = Sigma_TB - (A_ST.T @ A_SB)\n",
    "  mu_T_S, Sigma_TT_S = gpr.predict(sites_new, full_cov=full_cov)\n",
    "  return mu_T_S, Sigma_TB_S, Sigma_TT_S"
   ]
  },
  {
   "cell_type": "code",
   "execution_count": null,
   "metadata": {},
   "outputs": [],
   "source": [
    "def gp_predict(keys, A, mun, Knn, samples, mu, i, full_cov=True, eps=1e-6):\n",
    "    fmean = mun + A.T @ (samples['z'][i])\n",
    "    if full_cov:\n",
    "      fvar =  Knn - A.T @ A\n",
    "      sam = random.multivariate_normal(keys[i], fmean, fvar)\n",
    "    else:\n",
    "      fstd = np.sqrt(Knn - np.sum(A**2, axis=0))\n",
    "      sam = fmean + fstd*random.normal(keys[i])\n",
    "    return sam"
   ]
  },
  {
   "cell_type": "code",
   "execution_count": null,
   "metadata": {},
   "outputs": [],
   "source": [
    "mu_T_S, Sigma_TB_S, Sigma_TT_S = compute_mu_Sigma_pred(sites_new, survey_sites, gpr, full_cov=False)\n",
    "A = jax.scipy.linalg.solve_triangular(L_BB_S, Sigma_TB_S.T, lower=True)\n",
    "fsam =  np.stack([gp_predict(rng_keys, A, mu_T_S, Sigma_TT_S, samples, mu_B_S, i, full_cov=False)\n",
    "                    for i in trange(samples['z'].shape[0])])"
   ]
  },
  {
   "cell_type": "code",
   "execution_count": null,
   "metadata": {},
   "outputs": [],
   "source": [
    "from scipy import linalg\n",
    "# Precomputed Quantities\n",
    "jitter_gpr = 1e-4\n",
    "K_gpr = gpr.kernel(gpr.args_im, gpr.sites, gpr.gmm_res)\n",
    "K_gpr = K_gpr + np.eye(survey_sites.n_sites)*jitter_gpr\n",
    "L_gpr = np.linalg.cholesky(K_gpr)\n",
    "A_I = linalg.solve_triangular(L_gpr,\n",
    "                gpr.kernel(gpr.args_im, gpr.sites, gpr.gmm_res, sites, gmm_res),\n",
    "                lower=True)"
   ]
  },
  {
   "cell_type": "code",
   "execution_count": null,
   "metadata": {},
   "outputs": [],
   "source": [
    "def compute_mu_Sigma_pred(sites_new, gmm_res_new, sites, gmm_res,\n",
    "                        gpr, full_cov=True, jitter=1e-6):\n",
    "  K_IT = gpr.kernel(gpr.args_im, sites, gmm_res, sites_new, gmm_res_new)\n",
    "  K_TS = gpr.kernel(gpr.args_im, sites_new, gmm_res_new, gpr.sites, gpr.gmm_res)\n",
    "  A_T = jax.scipy.linalg.solve_triangular(L_gpr, K_TS.T, lower=True)\n",
    "  Sigma_TI = K_IT.T - (A_T.T @ A_I)\n",
    "  mu_T, Sigma_TT = gpr.predict(sites_new, gmm_res_new, full_cov=full_cov)\n",
    "  return mu_T, Sigma_TI, Sigma_TT"
   ]
  },
  {
   "cell_type": "code",
   "execution_count": null,
   "metadata": {},
   "outputs": [],
   "source": [
    "def gp_predict(keys, A, mun, Knn, samples, mu, i, full_cov=True, eps=1e-6):\n",
    "    fmean = mun + A.T @ (samples['z'][i])\n",
    "    if full_cov:\n",
    "      fvar =  Knn - A.T @ A\n",
    "      sam = random.multivariate_normal(keys[i], fmean, fvar)\n",
    "    else:\n",
    "      fstd = np.sqrt(Knn - np.sum(A**2, axis=0))\n",
    "      sam = fmean + fstd*random.normal(keys[i])\n",
    "    return sam"
   ]
  },
  {
   "cell_type": "code",
   "execution_count": null,
   "metadata": {},
   "outputs": [],
   "source": [
    "fmean = []; fstd = []; fq05 = []; fq95 = []\n",
    "# Ssites_new, Sgmm_res_new = [prepare_sites(df_test, im_args) for df_test in dfs_test]\n",
    "# for df_test in dfs_test:\n",
    "#   # df_test = dfs_test[1]\n",
    "#   if len(df_test)==0: continue\n",
    "#   sites_new, gmm_res_new = prepare_sites(df_test, im_args)\n",
    "rng_key = random.PRNGKey(2)\n",
    "rng_keys = random.split(rng_key, samples['z'].shape[0])\n",
    "for sites_new, gmm_res_new in prepared_dfs:\n",
    "  if sites_new['X'].shape[0]==0: continue\n",
    "  mu_T, Sigma_TI, Sigma_TT = compute_mu_Sigma_pred(sites_new, gmm_res_new, sites, gmm_res,\n",
    "                                gpr, full_cov=False)\n",
    "  A = jax.scipy.linalg.solve_triangular(L, Sigma_TI.T, lower=True)\n",
    "  fsam =  np.stack([gp_predict(rng_keys, A, mu_T, Sigma_TT, samples, mu, i, full_cov=False)\n",
    "                        for i in trange(samples['z'].shape[0])])\n",
    "  fmean.append(np.round(np.mean(fsam,axis=0),4))\n",
    "  fstd.append(np.round(np.std(fsam,axis=0),4))\n",
    "  fq05.append(np.round(np.quantile(fsam, 0.05, axis=0),4))\n",
    "  fq95.append(np.round(np.quantile(fsam, 0.95, axis=0),4))"
   ]
  },
  {
   "cell_type": "code",
   "execution_count": 156,
   "metadata": {},
   "outputs": [
    {
     "data": {
      "text/plain": [
       "array([0.53579093, 0.70557023, 0.63584469])"
      ]
     },
     "execution_count": 156,
     "metadata": {},
     "output_type": "execute_result"
    }
   ],
   "source": [
    "np.quantile(betas, 0.05, axis=1)"
   ]
  },
  {
   "cell_type": "code",
   "execution_count": 155,
   "metadata": {},
   "outputs": [
    {
     "data": {
      "text/plain": [
       "array([0.68228887, 0.90252083, 0.83434432])"
      ]
     },
     "execution_count": 155,
     "metadata": {},
     "output_type": "execute_result"
    }
   ],
   "source": [
    "np.quantile(betas, 0.95, axis=1)"
   ]
  },
  {
   "cell_type": "code",
   "execution_count": 120,
   "metadata": {},
   "outputs": [],
   "source": [
    "thetas_true = np.array([[0.25, 0.41, 0.66],\n",
    "                        [0.37, 0.65, 1.05],\n",
    "                        [0.52, 0.93,  1.49]])\n",
    "betas_true = np.array([[0.59],[0.75], [0.75]])"
   ]
  },
  {
   "cell_type": "code",
   "execution_count": 134,
   "metadata": {},
   "outputs": [
    {
     "data": {
      "text/plain": [
       "array([[-2.34965146, -1.51118325, -0.70426346],\n",
       "       [-1.3256697 , -0.57437722,  0.06505355],\n",
       "       [-0.87190196, -0.09676092,  0.53170149]])"
      ]
     },
     "execution_count": 134,
     "metadata": {},
     "output_type": "execute_result"
    }
   ],
   "source": [
    "np.log(thetas_true)/betas_true"
   ]
  },
  {
   "cell_type": "code",
   "execution_count": 136,
   "metadata": {},
   "outputs": [
    {
     "data": {
      "text/plain": [
       "array([0.60643165, 0.80005068, 0.73110655])"
      ]
     },
     "execution_count": 136,
     "metadata": {},
     "output_type": "execute_result"
    }
   ],
   "source": [
    "np.mean(betas,axis=1)"
   ]
  },
  {
   "cell_type": "code",
   "execution_count": 135,
   "metadata": {},
   "outputs": [
    {
     "data": {
      "text/plain": [
       "array([[-2.18068211, -1.45557603, -0.6533518 ],\n",
       "       [-1.23169998, -0.4881678 ,  0.15181286],\n",
       "       [-0.88833159, -0.20768349,  0.4770438 ]])"
      ]
     },
     "execution_count": 135,
     "metadata": {},
     "output_type": "execute_result"
    }
   ],
   "source": [
    "np.mean(etas, axis=1)"
   ]
  },
  {
   "cell_type": "code",
   "execution_count": 153,
   "metadata": {},
   "outputs": [
    {
     "data": {
      "text/plain": [
       "array([[0.26872712, 0.41684399, 0.67824762],\n",
       "       [0.37654504, 0.68292607, 1.14188113],\n",
       "       [0.52715756, 0.86794139, 1.43603069]])"
      ]
     },
     "execution_count": 153,
     "metadata": {},
     "output_type": "execute_result"
    }
   ],
   "source": [
    "np.mean(np.exp(etas*betas[:,:,None]),axis=1)"
   ]
  },
  {
   "cell_type": "code",
   "execution_count": 133,
   "metadata": {},
   "outputs": [
    {
     "data": {
      "text/plain": [
       "array([[0.26648571, 0.31206787, 0.62022697],\n",
       "       [0.47381333, 0.67667852, 1.11738527],\n",
       "       [0.58349909, 0.84691299, 1.41732296]])"
      ]
     },
     "execution_count": 133,
     "metadata": {},
     "output_type": "execute_result"
    }
   ],
   "source": [
    "np.exp(np.mean(etas, axis=1) * np.mean(betas, axis=1))"
   ]
  },
  {
   "cell_type": "code",
   "execution_count": 121,
   "metadata": {},
   "outputs": [
    {
     "ename": "ModuleNotFoundError",
     "evalue": "No module named 'matplotlib'",
     "output_type": "error",
     "traceback": [
      "\u001b[1;31m---------------------------------------------------------------------------\u001b[0m",
      "\u001b[1;31mModuleNotFoundError\u001b[0m                       Traceback (most recent call last)",
      "\u001b[1;32mz:\\EmpiricalFragility\\github\\empirical-fragility-bayes\\example_Application.ipynb Cell 14\u001b[0m line \u001b[0;36m1\n\u001b[1;32m----> <a href='vscode-notebook-cell:/z%3A/EmpiricalFragility/github/empirical-fragility-bayes/example_Application.ipynb#X64sZmlsZQ%3D%3D?line=0'>1</a>\u001b[0m \u001b[39mimport\u001b[39;00m \u001b[39mmatplotlib\u001b[39;00m\u001b[39m.\u001b[39;00m\u001b[39mpyplot\u001b[39;00m \u001b[39mas\u001b[39;00m \u001b[39mplt\u001b[39;00m\n\u001b[0;32m      <a href='vscode-notebook-cell:/z%3A/EmpiricalFragility/github/empirical-fragility-bayes/example_Application.ipynb#X64sZmlsZQ%3D%3D?line=1'>2</a>\u001b[0m cmap \u001b[39m=\u001b[39m plt\u001b[39m.\u001b[39mget_cmap(\u001b[39m'\u001b[39m\u001b[39minferno_r\u001b[39m\u001b[39m'\u001b[39m)\n\u001b[0;32m      <a href='vscode-notebook-cell:/z%3A/EmpiricalFragility/github/empirical-fragility-bayes/example_Application.ipynb#X64sZmlsZQ%3D%3D?line=2'>3</a>\u001b[0m colors \u001b[39m=\u001b[39m cmap([\u001b[39m0.15\u001b[39m, \u001b[39m0.4\u001b[39m, \u001b[39m0.85\u001b[39m])\n",
      "\u001b[1;31mModuleNotFoundError\u001b[0m: No module named 'matplotlib'"
     ]
    }
   ],
   "source": [
    "import matplotlib.pyplot as plt\n",
    "cmap = plt.get_cmap('inferno_r')\n",
    "colors = cmap([0.15, 0.4, 0.85])\n",
    "\n",
    "vc = 0\n",
    "im = np.linspace(0.001,1,500)\n",
    "logim = np.log(im).reshape(-1,1)\n",
    "fig, ax = plt.subplots()\n",
    "for dm in range(2):\n",
    "  # Compute mean parameters\n",
    "  beta_m = np.mean(betas[vc,:])\n",
    "  # etas_m = onp.mean(etas[vc,:,dm] * betas[vc,:])\n",
    "  etas_m = np.mean(etas[vc,:,dm])\n",
    "  # Compute all sampled functions\n",
    "  ccdf = norm.cdf(logim/betas[vc,:].reshape(1,-1) - etas[vc,:,dm].reshape(1,-1))\n",
    "  # 5% and 95% quantiles of all sampled functions at each im\n",
    "  qs = np.quantile(ccdf, [0.05, 0.95], axis=1)\n",
    "  plt.fill_between(im, qs[1,:], qs[0,:], alpha=0.2, color=colors[dm])\n",
    "  if dm == 1: lab1 = 'MCMC: mean'; lab2 = 'true'\n",
    "  else: lab1 = lab2 = None\n",
    "  # plt.plot(im, norm.cdf((logim-etas_m)/beta_m), color=colors[dm], ls='-', label=lab1)\n",
    "  plt.plot(im, norm.cdf(logim/beta_m - etas_m), color=colors[dm], ls='-', label=lab1)\n",
    "  plt.plot(im, norm.cdf((logim-np.log(thetas_true[vc,dm]))/betas_true[vc,0]), color=colors[dm], ls='--', label=lab2)\n",
    "ax.set_ylim([0,1])\n",
    "ax.set_xlim([0.01,1])\n",
    "ax.set_ylabel('Exceedance probability')\n",
    "ax.set_xlabel('PGA [g]')\n",
    "ax.legend()\n",
    "# ax.set_xscale('log')\n",
    "plt.show()"
   ]
  },
  {
   "cell_type": "code",
   "execution_count": null,
   "metadata": {},
   "outputs": [],
   "source": []
  }
 ],
 "metadata": {
  "kernelspec": {
   "display_name": "numpyro",
   "language": "python",
   "name": "python3"
  },
  "language_info": {
   "codemirror_mode": {
    "name": "ipython",
    "version": 3
   },
   "file_extension": ".py",
   "mimetype": "text/x-python",
   "name": "python",
   "nbconvert_exporter": "python",
   "pygments_lexer": "ipython3",
   "version": "3.10.12"
  },
  "orig_nbformat": 4
 },
 "nbformat": 4,
 "nbformat_minor": 2
}
