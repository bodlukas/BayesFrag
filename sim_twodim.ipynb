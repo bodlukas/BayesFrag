{
 "cells": [
  {
   "cell_type": "code",
   "execution_count": 1,
   "metadata": {},
   "outputs": [
    {
     "name": "stderr",
     "output_type": "stream",
     "text": [
      "c:\\Users\\bodlukas\\Anaconda3\\envs\\numpyro\\lib\\site-packages\\tqdm\\auto.py:21: TqdmWarning: IProgress not found. Please update jupyter and ipywidgets. See https://ipywidgets.readthedocs.io/en/stable/user_install.html\n",
      "  from .autonotebook import tqdm as notebook_tqdm\n"
     ]
    }
   ],
   "source": [
    "import numpyro"
   ]
  },
  {
   "cell_type": "code",
   "execution_count": 1,
   "metadata": {},
   "outputs": [
    {
     "name": "stderr",
     "output_type": "stream",
     "text": [
      "c:\\Users\\bodlukas\\Anaconda3\\envs\\numpyro\\lib\\site-packages\\tqdm\\auto.py:21: TqdmWarning: IProgress not found. Please update jupyter and ipywidgets. See https://ipywidgets.readthedocs.io/en/stable/user_install.html\n",
      "  from .autonotebook import tqdm as notebook_tqdm\n"
     ]
    }
   ],
   "source": [
    "# Basic packages\n",
    "import json\n",
    "import pandas as pd\n",
    "# import matplotlib.pyplot as plt\n",
    "# import matplotlib as mpl\n",
    "import numpy as np\n",
    "import os\n",
    "\n",
    "# JAX-related\n",
    "import jax\n",
    "from jax import random, lax\n",
    "import jax.numpy as jnp\n",
    "from jax.scipy.stats import norm\n",
    "\n",
    "# Numpyro-related\n",
    "import numpyro\n",
    "import numpyro.distributions as dist\n",
    "from numpyro.infer import MCMC, NUTS, HMC\n",
    "\n",
    "numpyro.enable_x64()"
   ]
  },
  {
   "cell_type": "code",
   "execution_count": 2,
   "metadata": {},
   "outputs": [],
   "source": [
    "path_data = os.getcwd() + os.sep + 'data_twodim' + os.sep\n",
    "\n",
    "im_string = 'T0_300'\n",
    "gmm_combo = 'GMM1'"
   ]
  },
  {
   "cell_type": "code",
   "execution_count": 3,
   "metadata": {},
   "outputs": [],
   "source": [
    "dfstations = pd.read_csv(path_data + 'stations_im' + im_string + '_' + gmm_combo + '.csv')\n",
    "dfsurvey = pd.read_csv(path_data + 'survey_im' + im_string + '_' + gmm_combo + '.csv') "
   ]
  },
  {
   "cell_type": "code",
   "execution_count": 4,
   "metadata": {},
   "outputs": [],
   "source": [
    "from modules.spatialcorrelation import EspositoIervolino2012\n",
    "from modules.utils import Sites"
   ]
  },
  {
   "cell_type": "code",
   "execution_count": 66,
   "metadata": {},
   "outputs": [],
   "source": [
    "df = pd.read_csv(path_data + 'stations_im' + im_string + '_' + gmm_combo + '.csv')\n",
    "station_sites = Sites(\n",
    "    coordinates = df[['Longitude', 'Latitude']].values,\n",
    "    mu_logIM = df['mu_logIM'].values,\n",
    "    tau_logIM = df['tau_logIM'].values,\n",
    "    phi_logIM = df['phi_logIM'].values,\n",
    ")\n",
    "obs_logIM = df['obs_logIM'].values\n",
    "\n",
    "df = pd.read_csv(path_data + 'survey_im' + im_string + '_' + gmm_combo + '.csv')\n",
    "survey_sites = Sites(\n",
    "    coordinates = df[['Longitude', 'Latitude']].values,\n",
    "    mu_logIM = df['mu_logIM'].values,\n",
    "    tau_logIM = df['tau_logIM'].values,\n",
    "    phi_logIM = df['phi_logIM'].values,\n",
    ")"
   ]
  },
  {
   "cell_type": "code",
   "execution_count": 6,
   "metadata": {},
   "outputs": [],
   "source": [
    "SCM = EspositoIervolino2012(im_string, dataset='it')"
   ]
  },
  {
   "cell_type": "code",
   "execution_count": 24,
   "metadata": {},
   "outputs": [],
   "source": [
    "idx = dfsurvey[np.isin(dfsurvey.BuildingClass.values, ['A-L', 'A-MH'])].index\n",
    "dfsurvey.loc[idx, 'BuildingClass2'] = 'A'\n",
    "idx = dfsurvey[np.isin(dfsurvey.BuildingClass.values, ['B-L', 'B-MH'])].index\n",
    "dfsurvey.loc[idx, 'BuildingClass2'] = 'B'\n",
    "idx = dfsurvey[np.isin(dfsurvey.BuildingClass.values, ['C1-L', 'C1-MH'])].index\n",
    "dfsurvey.loc[idx, 'BuildingClass2'] = 'C'"
   ]
  },
  {
   "cell_type": "code",
   "execution_count": 56,
   "metadata": {},
   "outputs": [],
   "source": [
    "dfsam1 = dfsurvey[dfsurvey.PRO_COM==66049].groupby('BuildingClass2').sample(800, random_state=0)\n",
    "dfsam2 = dfsurvey[dfsurvey.PRO_COM!=66049].groupby('BuildingClass2').sample(600, random_state=99)\n",
    "dfsam = pd.concat([dfsam1, dfsam2])"
   ]
  },
  {
   "cell_type": "code",
   "execution_count": 67,
   "metadata": {},
   "outputs": [],
   "source": [
    "df = dfsam.copy()\n",
    "survey_sites = Sites(\n",
    "    coordinates = df[['Longitude', 'Latitude']].values,\n",
    "    mu_logIM = df['mu_logIM'].values,\n",
    "    tau_logIM = df['tau_logIM'].values,\n",
    "    phi_logIM = df['phi_logIM'].values,\n",
    ")"
   ]
  },
  {
   "cell_type": "code",
   "execution_count": 68,
   "metadata": {},
   "outputs": [],
   "source": [
    "from modules.shakemap import GPR\n",
    "\n",
    "gpr = GPR(SCM=SCM)\n",
    "gpr.fit(station_sites, obs_logIM, jitter=1e-4)"
   ]
  },
  {
   "cell_type": "code",
   "execution_count": 69,
   "metadata": {},
   "outputs": [],
   "source": [
    "mu_B_S, Sigma_BB_S = gpr.predict(survey_sites, full_cov=True)"
   ]
  },
  {
   "cell_type": "code",
   "execution_count": 90,
   "metadata": {},
   "outputs": [],
   "source": [
    "rng = np.random.default_rng(seed=31)\n",
    "sim_logIM = rng.multivariate_normal(mu_B_S, Sigma_BB_S)"
   ]
  },
  {
   "cell_type": "code",
   "execution_count": 91,
   "metadata": {},
   "outputs": [],
   "source": [
    "thetas_true = np.array([[0.25, 0.41, 0.66],\n",
    "                        [0.37, 0.65, 1.05],\n",
    "                        [0.52, 0.93,  1.49]])\n",
    "betas_true = np.array([[0.59],[0.75], [0.75]])"
   ]
  },
  {
   "cell_type": "code",
   "execution_count": 92,
   "metadata": {},
   "outputs": [],
   "source": [
    "building_class = pd.Categorical(dfsam.BuildingClass2.copy(), categories=['A','B','C'], ordered=True)"
   ]
  },
  {
   "cell_type": "code",
   "execution_count": 94,
   "metadata": {},
   "outputs": [],
   "source": [
    "from scipy.stats import norm\n",
    "rng = np.random.default_rng(seed=91)\n",
    "betas = betas_true[building_class.codes]\n",
    "etas = 1/betas * np.log(thetas_true[building_class.codes])\n",
    "ccdf = [np.ones_like(sim_logIM)]\n",
    "ccdf.append(norm.cdf(sim_logIM/betas[:,0] - etas[:,0]))\n",
    "ccdf.append(norm.cdf(sim_logIM/betas[:,0] - etas[:,1]))\n",
    "ccdf.append(norm.cdf(sim_logIM/betas[:,0] - etas[:,2]))\n",
    "ccdf.append(np.zeros_like(sim_logIM))\n",
    "cdf = 1-np.stack(ccdf)\n",
    "helpuni = rng.uniform(0,1,size=len(sim_logIM))\n",
    "sam_ds = np.zeros_like(sim_logIM)\n",
    "for ds in range(4):\n",
    "    sam_ds += ((helpuni > cdf[ds,:]) & (helpuni <= cdf[ds+1,:])) * ds"
   ]
  },
  {
   "cell_type": "code",
   "execution_count": 95,
   "metadata": {},
   "outputs": [],
   "source": [
    "dfsam['samDS'] = sam_ds.astype(int)"
   ]
  },
  {
   "cell_type": "code",
   "execution_count": 89,
   "metadata": {},
   "outputs": [
    {
     "data": {
      "text/plain": [
       "BuildingClass2  samDS\n",
       "A               0        613\n",
       "                1        244\n",
       "                2        275\n",
       "                3        268\n",
       "B               0        796\n",
       "                1        262\n",
       "                2        153\n",
       "                3        189\n",
       "C               0        957\n",
       "                1        226\n",
       "                2        115\n",
       "                3        102\n",
       "dtype: int64"
      ]
     },
     "execution_count": 89,
     "metadata": {},
     "output_type": "execute_result"
    }
   ],
   "source": [
    "dfsam.groupby(['BuildingClass2', 'samDS']).size()"
   ]
  },
  {
   "cell_type": "code",
   "execution_count": 97,
   "metadata": {},
   "outputs": [
    {
     "data": {
      "text/plain": [
       "BuildingClass2  samDS\n",
       "A               0        569\n",
       "                1        220\n",
       "                2        269\n",
       "                3        342\n",
       "B               0        773\n",
       "                1        264\n",
       "                2        182\n",
       "                3        181\n",
       "C               0        934\n",
       "                1        214\n",
       "                2        148\n",
       "                3        104\n",
       "dtype: int64"
      ]
     },
     "execution_count": 97,
     "metadata": {},
     "output_type": "execute_result"
    }
   ],
   "source": [
    "dfsam.groupby(['BuildingClass2', 'samDS']).size()"
   ]
  },
  {
   "cell_type": "code",
   "execution_count": 100,
   "metadata": {},
   "outputs": [
    {
     "data": {
      "text/html": [
       "<div>\n",
       "<style scoped>\n",
       "    .dataframe tbody tr th:only-of-type {\n",
       "        vertical-align: middle;\n",
       "    }\n",
       "\n",
       "    .dataframe tbody tr th {\n",
       "        vertical-align: top;\n",
       "    }\n",
       "\n",
       "    .dataframe thead th {\n",
       "        text-align: right;\n",
       "    }\n",
       "</style>\n",
       "<table border=\"1\" class=\"dataframe\">\n",
       "  <thead>\n",
       "    <tr style=\"text-align: right;\">\n",
       "      <th></th>\n",
       "      <th>id</th>\n",
       "      <th>Longitude</th>\n",
       "      <th>Latitude</th>\n",
       "      <th>vs30</th>\n",
       "      <th>epiazimuth</th>\n",
       "      <th>mu_logIM</th>\n",
       "      <th>tau_logIM</th>\n",
       "      <th>phi_logIM</th>\n",
       "      <th>BuildingClass</th>\n",
       "      <th>DamageState</th>\n",
       "      <th>PRO_COM</th>\n",
       "      <th>BuildingClass2</th>\n",
       "      <th>samDS</th>\n",
       "    </tr>\n",
       "  </thead>\n",
       "  <tbody>\n",
       "    <tr>\n",
       "      <th>30175</th>\n",
       "      <td>0</td>\n",
       "      <td>13.430660</td>\n",
       "      <td>42.302485</td>\n",
       "      <td>529.93370</td>\n",
       "      <td>44.626553</td>\n",
       "      <td>-0.565073</td>\n",
       "      <td>0.501964</td>\n",
       "      <td>0.66775</td>\n",
       "      <td>A-L</td>\n",
       "      <td>5</td>\n",
       "      <td>66049.0</td>\n",
       "      <td>A</td>\n",
       "      <td>0</td>\n",
       "    </tr>\n",
       "    <tr>\n",
       "      <th>8012</th>\n",
       "      <td>1</td>\n",
       "      <td>13.288765</td>\n",
       "      <td>42.396429</td>\n",
       "      <td>509.20395</td>\n",
       "      <td>164.165307</td>\n",
       "      <td>-0.677659</td>\n",
       "      <td>0.501964</td>\n",
       "      <td>0.66775</td>\n",
       "      <td>A-L</td>\n",
       "      <td>1</td>\n",
       "      <td>66049.0</td>\n",
       "      <td>A</td>\n",
       "      <td>3</td>\n",
       "    </tr>\n",
       "    <tr>\n",
       "      <th>32034</th>\n",
       "      <td>2</td>\n",
       "      <td>13.365190</td>\n",
       "      <td>42.365922</td>\n",
       "      <td>450.50436</td>\n",
       "      <td>169.837767</td>\n",
       "      <td>-0.565073</td>\n",
       "      <td>0.501964</td>\n",
       "      <td>0.66775</td>\n",
       "      <td>A-L</td>\n",
       "      <td>3</td>\n",
       "      <td>66049.0</td>\n",
       "      <td>A</td>\n",
       "      <td>3</td>\n",
       "    </tr>\n",
       "    <tr>\n",
       "      <th>14428</th>\n",
       "      <td>3</td>\n",
       "      <td>13.402773</td>\n",
       "      <td>42.348720</td>\n",
       "      <td>453.86163</td>\n",
       "      <td>177.774937</td>\n",
       "      <td>-0.565073</td>\n",
       "      <td>0.501964</td>\n",
       "      <td>0.66775</td>\n",
       "      <td>A-MH</td>\n",
       "      <td>2</td>\n",
       "      <td>66049.0</td>\n",
       "      <td>A</td>\n",
       "      <td>1</td>\n",
       "    </tr>\n",
       "    <tr>\n",
       "      <th>16642</th>\n",
       "      <td>4</td>\n",
       "      <td>13.400559</td>\n",
       "      <td>42.352410</td>\n",
       "      <td>455.24070</td>\n",
       "      <td>179.724174</td>\n",
       "      <td>-0.565073</td>\n",
       "      <td>0.501964</td>\n",
       "      <td>0.66775</td>\n",
       "      <td>A-MH</td>\n",
       "      <td>4</td>\n",
       "      <td>66049.0</td>\n",
       "      <td>A</td>\n",
       "      <td>3</td>\n",
       "    </tr>\n",
       "    <tr>\n",
       "      <th>...</th>\n",
       "      <td>...</td>\n",
       "      <td>...</td>\n",
       "      <td>...</td>\n",
       "      <td>...</td>\n",
       "      <td>...</td>\n",
       "      <td>...</td>\n",
       "      <td>...</td>\n",
       "      <td>...</td>\n",
       "      <td>...</td>\n",
       "      <td>...</td>\n",
       "      <td>...</td>\n",
       "      <td>...</td>\n",
       "      <td>...</td>\n",
       "    </tr>\n",
       "    <tr>\n",
       "      <th>52275</th>\n",
       "      <td>4195</td>\n",
       "      <td>13.395423</td>\n",
       "      <td>41.972135</td>\n",
       "      <td>536.46490</td>\n",
       "      <td>44.474262</td>\n",
       "      <td>-2.146303</td>\n",
       "      <td>0.501964</td>\n",
       "      <td>0.66775</td>\n",
       "      <td>C1-MH</td>\n",
       "      <td>0</td>\n",
       "      <td>66020.0</td>\n",
       "      <td>C</td>\n",
       "      <td>0</td>\n",
       "    </tr>\n",
       "    <tr>\n",
       "      <th>54050</th>\n",
       "      <td>4196</td>\n",
       "      <td>13.390121</td>\n",
       "      <td>41.963362</td>\n",
       "      <td>622.23680</td>\n",
       "      <td>44.986776</td>\n",
       "      <td>-2.188677</td>\n",
       "      <td>0.501964</td>\n",
       "      <td>0.66775</td>\n",
       "      <td>C1-L</td>\n",
       "      <td>0</td>\n",
       "      <td>66020.0</td>\n",
       "      <td>C</td>\n",
       "      <td>0</td>\n",
       "    </tr>\n",
       "    <tr>\n",
       "      <th>27547</th>\n",
       "      <td>4197</td>\n",
       "      <td>13.567571</td>\n",
       "      <td>42.245930</td>\n",
       "      <td>425.86472</td>\n",
       "      <td>347.998133</td>\n",
       "      <td>-0.677665</td>\n",
       "      <td>0.501964</td>\n",
       "      <td>0.66775</td>\n",
       "      <td>C1-MH</td>\n",
       "      <td>0</td>\n",
       "      <td>66042.0</td>\n",
       "      <td>C</td>\n",
       "      <td>2</td>\n",
       "    </tr>\n",
       "    <tr>\n",
       "      <th>49232</th>\n",
       "      <td>4198</td>\n",
       "      <td>13.412729</td>\n",
       "      <td>42.059801</td>\n",
       "      <td>431.81610</td>\n",
       "      <td>43.196936</td>\n",
       "      <td>-1.681242</td>\n",
       "      <td>0.501964</td>\n",
       "      <td>0.66775</td>\n",
       "      <td>C1-L</td>\n",
       "      <td>0</td>\n",
       "      <td>66006.0</td>\n",
       "      <td>C</td>\n",
       "      <td>0</td>\n",
       "    </tr>\n",
       "    <tr>\n",
       "      <th>46010</th>\n",
       "      <td>4199</td>\n",
       "      <td>13.469757</td>\n",
       "      <td>42.055949</td>\n",
       "      <td>512.21970</td>\n",
       "      <td>34.122754</td>\n",
       "      <td>-1.676808</td>\n",
       "      <td>0.501964</td>\n",
       "      <td>0.66775</td>\n",
       "      <td>C1-MH</td>\n",
       "      <td>0</td>\n",
       "      <td>66006.0</td>\n",
       "      <td>C</td>\n",
       "      <td>0</td>\n",
       "    </tr>\n",
       "  </tbody>\n",
       "</table>\n",
       "<p>4200 rows × 13 columns</p>\n",
       "</div>"
      ],
      "text/plain": [
       "         id  Longitude   Latitude       vs30  epiazimuth  mu_logIM  tau_logIM  \\\n",
       "30175     0  13.430660  42.302485  529.93370   44.626553 -0.565073   0.501964   \n",
       "8012      1  13.288765  42.396429  509.20395  164.165307 -0.677659   0.501964   \n",
       "32034     2  13.365190  42.365922  450.50436  169.837767 -0.565073   0.501964   \n",
       "14428     3  13.402773  42.348720  453.86163  177.774937 -0.565073   0.501964   \n",
       "16642     4  13.400559  42.352410  455.24070  179.724174 -0.565073   0.501964   \n",
       "...     ...        ...        ...        ...         ...       ...        ...   \n",
       "52275  4195  13.395423  41.972135  536.46490   44.474262 -2.146303   0.501964   \n",
       "54050  4196  13.390121  41.963362  622.23680   44.986776 -2.188677   0.501964   \n",
       "27547  4197  13.567571  42.245930  425.86472  347.998133 -0.677665   0.501964   \n",
       "49232  4198  13.412729  42.059801  431.81610   43.196936 -1.681242   0.501964   \n",
       "46010  4199  13.469757  42.055949  512.21970   34.122754 -1.676808   0.501964   \n",
       "\n",
       "       phi_logIM BuildingClass  DamageState  PRO_COM BuildingClass2  samDS  \n",
       "30175    0.66775           A-L            5  66049.0              A      0  \n",
       "8012     0.66775           A-L            1  66049.0              A      3  \n",
       "32034    0.66775           A-L            3  66049.0              A      3  \n",
       "14428    0.66775          A-MH            2  66049.0              A      1  \n",
       "16642    0.66775          A-MH            4  66049.0              A      3  \n",
       "...          ...           ...          ...      ...            ...    ...  \n",
       "52275    0.66775         C1-MH            0  66020.0              C      0  \n",
       "54050    0.66775          C1-L            0  66020.0              C      0  \n",
       "27547    0.66775         C1-MH            0  66042.0              C      2  \n",
       "49232    0.66775          C1-L            0  66006.0              C      0  \n",
       "46010    0.66775         C1-MH            0  66006.0              C      0  \n",
       "\n",
       "[4200 rows x 13 columns]"
      ]
     },
     "execution_count": 100,
     "metadata": {},
     "output_type": "execute_result"
    }
   ],
   "source": [
    "dfsam['id'] = np.arange(len(dfsam))\n",
    "dfsam"
   ]
  },
  {
   "cell_type": "code",
   "execution_count": 102,
   "metadata": {},
   "outputs": [],
   "source": [
    "dfsurvey2 = dfsam[['id', 'Longitude', 'Latitude', 'vs30']].copy()\n",
    "dfsurvey2['BuildingClass'] = dfsam['BuildingClass2'].values\n",
    "dfsurvey2['DamageState'] = dfsam['samDS'].values"
   ]
  },
  {
   "cell_type": "code",
   "execution_count": 104,
   "metadata": {},
   "outputs": [],
   "source": [
    "dfsurvey2.to_csv(path_data + 'survey2.csv', index=False)"
   ]
  }
 ],
 "metadata": {
  "kernelspec": {
   "display_name": "numpyro",
   "language": "python",
   "name": "python3"
  },
  "language_info": {
   "codemirror_mode": {
    "name": "ipython",
    "version": 3
   },
   "file_extension": ".py",
   "mimetype": "text/x-python",
   "name": "python",
   "nbconvert_exporter": "python",
   "pygments_lexer": "ipython3",
   "version": "3.10.12"
  },
  "orig_nbformat": 4
 },
 "nbformat": 4,
 "nbformat_minor": 2
}
