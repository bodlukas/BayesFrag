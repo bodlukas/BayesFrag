{
 "cells": [
  {
   "cell_type": "code",
   "execution_count": null,
   "metadata": {},
   "outputs": [],
   "source": [
    "import numpy as np\n",
    "import pandas as pd\n",
    "import os\n",
    "import json\n",
    "import openquake.hazardlib as oq"
   ]
  },
  {
   "cell_type": "code",
   "execution_count": null,
   "metadata": {},
   "outputs": [],
   "source": [
    "path_data = os.getcwd() + os.sep + 'data_twodim' + os.sep"
   ]
  },
  {
   "cell_type": "code",
   "execution_count": null,
   "metadata": {},
   "outputs": [],
   "source": [
    "Point = oq.geo.point.Point\n",
    "PlanarSurface = oq.geo.surface.planar.PlanarSurface\n",
    "MultiSurface = oq.geo.surface.multi.MultiSurface\n",
    "BaseRupture = oq.source.rupture.BaseRupture\n",
    "\n",
    "f = open(path_data + 'rupture.json')\n",
    "rup_temp = json.load(f)\n",
    "f.close()\n",
    "rup_geom_json = rup_temp['features'][0]['geometry']\n",
    "rup_geom = np.array(rup_geom_json['coordinates'][0][0])[:-1,:]\n",
    "\n",
    "rupture_surface = PlanarSurface.from_corner_points(\n",
    "    top_left = Point(rup_geom[0, 0], rup_geom[0, 1], rup_geom[0, 2]),\n",
    "    top_right = Point(rup_geom[1, 0], rup_geom[1, 1], rup_geom[1, 2]),\n",
    "    bottom_right = Point(rup_geom[2, 0], rup_geom[2, 1], rup_geom[2, 2]),\n",
    "    bottom_left = Point(rup_geom[3, 0], rup_geom[3, 1], rup_geom[3, 2]),\n",
    ")\n",
    "rupture = BaseRupture(mag = 6.1, rake = -90.0, \n",
    "                    tectonic_region_type = 'Active Shallow Crust', \n",
    "                    hypocenter = Point(longitude = 13.380, \n",
    "                                        latitude = 42.342,\n",
    "                                        depth = 8.3),\n",
    "                    surface = rupture_surface)"
   ]
  }
 ],
 "metadata": {
  "language_info": {
   "name": "python"
  }
 },
 "nbformat": 4,
 "nbformat_minor": 2
}
